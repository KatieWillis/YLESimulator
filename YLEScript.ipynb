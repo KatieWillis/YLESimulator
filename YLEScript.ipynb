{
 "cells": [
  {
   "cell_type": "markdown",
   "id": "e437f942",
   "metadata": {},
   "source": [
    "# YLE modelling script\n",
    "\n",
    "20-02-24\n",
    "\n",
    "Katie Willis \n",
    "\n",
    "Katie.willis@imperial.ac.uk\n",
    "\n",
    "___\n",
    "\n",
    "This file contains code required to generate all figures and values associated with the publication.\n",
    "\n"
   ]
  },
  {
   "cell_type": "markdown",
   "id": "a901a9af",
   "metadata": {},
   "source": [
    "### Setup"
   ]
  },
  {
   "cell_type": "code",
   "execution_count": 3,
   "id": "human-vision",
   "metadata": {
    "scrolled": true
   },
   "outputs": [
    {
     "name": "stderr",
     "output_type": "stream",
     "text": [
      "\u001b[32m\u001b[1m  Activating\u001b[22m\u001b[39m project at `~/Library/CloudStorage/OneDrive-ImperialCollegeLondon/PhD work/Drive_modelling/Projects/YLE_Ignacio/GithubCode/Environment`\n"
     ]
    }
   ],
   "source": [
    "] activate ./Environment"
   ]
  },
  {
   "cell_type": "code",
   "execution_count": 4,
   "id": "2848156a",
   "metadata": {},
   "outputs": [
    {
     "name": "stdout",
     "output_type": "stream",
     "text": [
      "\u001b[32m\u001b[1mStatus\u001b[22m\u001b[39m `~/Library/CloudStorage/OneDrive-ImperialCollegeLondon/PhD work/Drive_modelling/Projects/YLE_Ignacio/GithubCode/Environment/Project.toml`\n",
      "  \u001b[90m[336ed68f] \u001b[39mCSV v0.10.12\n",
      "  \u001b[90m[a93c6f00] \u001b[39mDataFrames v1.6.1\n",
      "  \u001b[90m[8bb1440f] \u001b[39mDelimitedFiles v1.9.1\n",
      "  \u001b[90m[033835bb] \u001b[39mJLD2 v0.4.45\n",
      "  \u001b[90m[0db19996] \u001b[39mNBInclude v2.3.0\n",
      "\u001b[33m⌅\u001b[39m \u001b[90m[91a5bcdd] \u001b[39mPlots v1.39.0\n",
      "  \u001b[90m[d330b81b] \u001b[39mPyPlot v2.11.2\n",
      "  \u001b[90m[24249f21] \u001b[39mSymPy v2.0.1\n",
      "  \u001b[90m[8ba89e20] \u001b[39mDistributed\n",
      "  \u001b[90m[37e2e46d] \u001b[39mLinearAlgebra\n",
      "\u001b[36m\u001b[1mInfo\u001b[22m\u001b[39m Packages marked with \u001b[33m⌅\u001b[39m have new versions available but compatibility constraints restrict them from upgrading. To see why use `status --outdated`\n"
     ]
    }
   ],
   "source": [
    "] status"
   ]
  },
  {
   "cell_type": "code",
   "execution_count": 5,
   "id": "geological-postcard",
   "metadata": {},
   "outputs": [],
   "source": [
    "using NBInclude\n",
    "@nbinclude(\"./Environment/Setup.ipynb\");\n",
    "@nbinclude(\"./YLEModel.ipynb\");"
   ]
  },
  {
   "cell_type": "markdown",
   "id": "centered-hollywood",
   "metadata": {},
   "source": [
    "### Define variables"
   ]
  },
  {
   "cell_type": "code",
   "execution_count": 6,
   "id": "religious-distance",
   "metadata": {},
   "outputs": [],
   "source": [
    "#Define all alleles and genotypes \n",
    "\n",
    "A_alleles = [\"A\",\"a\",\"α\"];\n",
    "#A = target site\n",
    "#a = edit 1\n",
    "#α = edit 2\n",
    "\n",
    "Y_genotypes = [\"Y\",\"y\"];\n",
    "#Y = WT\n",
    "#y = construct\n",
    "\n",
    "#Define all allele and genotypes in females\n",
    "falleles = A_alleles\n",
    "genotypes_f = []\n",
    "for i in 1:length(falleles)\n",
    "    allele1 = falleles[i]\n",
    "    for j in i:length(falleles)\n",
    "        allele2 = falleles[j]\n",
    "        push!(genotypes_f,([allele1 allele2]))\n",
    "    end\n",
    "end;\n",
    "        \n",
    "#Define all allele combos and genotypes in males\n",
    "#For males there are two options for Y, therefore double the number of alleles and genotypes\n",
    "malleles = []\n",
    "for A in A_alleles\n",
    "    for Y in Y_genotypes\n",
    "        push!(malleles,(A, Y))\n",
    "    end\n",
    "end\n",
    "genotypes_m = []\n",
    "for i in genotypes_f\n",
    "    allele1 = i[1]\n",
    "    allele2 = i[2]\n",
    "    for yallele in Y_genotypes\n",
    "        push!(genotypes_m,([allele1 allele2 yallele]))\n",
    "    end\n",
    "end"
   ]
  },
  {
   "cell_type": "code",
   "execution_count": 7,
   "id": "physical-indiana",
   "metadata": {},
   "outputs": [],
   "source": [
    "#Define symbols (don't change)\n",
    "saf, haf, sαf, hαf, saαf, sam, ham, sαm, hαm, saαm, c, j, p, u, q, sy = Sym(\"saf haf sαf hαf saαf sam ham sαm hαm saαm c j p u q sy\")\n",
    "\n",
    "#Read in genotypes from storage\n",
    "genotypes_f_string = readdlm(\"./YLE/YLE_genotypes_f.csv\", ',', String,header=false);\n",
    "genotypes_m_string = readdlm(\"./YLE/YLE_genotypes_m.csv\", ',', String,header=false);\n",
    "\n",
    "#Define dictionary for indexing \n",
    "index_dict_f = Dict()\n",
    "[index_dict_f[genotypes_f_string[i]] = i for i in 1:length(genotypes_f_string)]\n",
    "index_dict_f\n",
    "\n",
    "index_dict_m = Dict()\n",
    "[index_dict_m[genotypes_m_string[i]] = i for i in 1:length(genotypes_m_string)]\n",
    "index_dict_m\n",
    "\n",
    "#Read in and convert data back to IC_F\n",
    "flattened_ic_f = readdlm(\"./YLE/YLE_inheritance_f.csv\", ',', String,header=true)[1]\n",
    "flattened_ic_f = convert(Array{Any}, flattened_ic_f)\n",
    "flattened_ic_f[:,1] = [index_dict_f[i] for i in flattened_ic_f[:,1]]\n",
    "flattened_ic_f[:,2] = [index_dict_m[i] for i in flattened_ic_f[:,2]]\n",
    "flattened_ic_f[:,3:end] = eval.(Meta.parse.(flattened_ic_f[:,3:end]))\n",
    "ic_f = Array{Any}(undef,length(genotypes_f_string),length(genotypes_m_string),length(genotypes_f_string))\n",
    "for i in 1:length(flattened_ic_f[:,1])\n",
    "    mother,father = flattened_ic_f[i,1:2]\n",
    "    ic_f[mother,father,:] = flattened_ic_f[i,3:end]\n",
    "end\n",
    "ic_f = Sym.(ic_f);\n",
    "\n",
    "#Read in and convert data back to IC_M\n",
    "flattened_ic_m = readdlm(\"./YLE/YLE_inheritance_m.csv\", ',', String,header=true)[1]\n",
    "flattened_ic_m = convert(Array{Any}, flattened_ic_m)\n",
    "flattened_ic_m[:,1] = [index_dict_f[i] for i in flattened_ic_m[:,1]]\n",
    "flattened_ic_m[:,2] = [index_dict_m[i] for i in flattened_ic_m[:,2]]\n",
    "flattened_ic_m[:,3:end] = eval.(Meta.parse.(flattened_ic_m[:,3:end]))\n",
    "ic_m = Array{Any}(undef,length(genotypes_f_string),length(genotypes_m_string),length(genotypes_m_string))\n",
    "for i in 1:length(flattened_ic_m[:,1])\n",
    "    mother,father = flattened_ic_m[i,1:2]\n",
    "    ic_m[mother,father,:] = flattened_ic_m[i,3:end]\n",
    "end\n",
    "ic_m = Sym.(ic_m);\n",
    "\n",
    "#Read in fitness from storage\n",
    "fitness_f = readdlm(\"./YLE/YLE_fitness_f.csv\", ',', String,header=true)[1]\n",
    "fitness_f = convert(Array{Any}, fitness_f[:,2])\n",
    "fitness_f = eval.(Meta.parse.(fitness_f))\n",
    "fitness_f = Sym.(fitness_f)\n",
    "\n",
    "fitness_m = readdlm(\"./YLE/YLE_fitness_m.csv\", ',', String,header=true)[1]\n",
    "fitness_m = convert(Array{Any}, fitness_m[:,2])\n",
    "fitness_m = eval.(Meta.parse.(fitness_m))\n",
    "fitness_m = Sym.(fitness_m);"
   ]
  },
  {
   "cell_type": "markdown",
   "id": "correct-hours",
   "metadata": {},
   "source": [
    "### Example time series simulation"
   ]
  },
  {
   "cell_type": "code",
   "execution_count": 8,
   "id": "cleared-workshop",
   "metadata": {},
   "outputs": [],
   "source": [
    "# Define inheritance and fitness params\n",
    "pdict = Dict()\n",
    "pdict[saf]=1.0\n",
    "pdict[haf]=1.0\n",
    "pdict[sαf]=1.0\n",
    "pdict[hαf]=0.0\n",
    "pdict[saαf]=1.0\n",
    "pdict[sam]=0.0\n",
    "pdict[ham]=0.0\n",
    "pdict[sαm]=0.0\n",
    "pdict[hαm]=0.0\n",
    "pdict[saαm]=0.0\n",
    "\n",
    "pdict[c]=1.0\n",
    "pdict[j]=0.0\n",
    "pdict[p]=0.0\n",
    "pdict[u]=1.0\n",
    "pdict[q]=1.0\n",
    "pdict[sy]=0.0\n",
    "\n",
    "# Save params\n",
    "subs_list = [(p,pdict[p]) for p in keys(pdict)];"
   ]
  },
  {
   "cell_type": "code",
   "execution_count": 9,
   "id": "textile-judgment",
   "metadata": {},
   "outputs": [],
   "source": [
    "#Define release scenario\n",
    "t=10\n",
    "release_freq = 1.0\n",
    "release_genotype=[\"A\" \"a\" \"y\"]\n",
    "\n",
    "#Simulate\n",
    "out = Simulate_single_release_example(subs_list,t,release_freq,release_genotype);\n"
   ]
  },
  {
   "cell_type": "code",
   "execution_count": 10,
   "id": "retired-pocket",
   "metadata": {},
   "outputs": [
    {
     "name": "stderr",
     "output_type": "stream",
     "text": [
      "sys:1: UserWarning: FigureCanvasAgg is non-interactive, and thus cannot be shown\n"
     ]
    },
    {
     "data": {
      "image/png": "[encoded data removed]",
      "text/plain": [
       "PyPlot.Figure(PyObject <Figure size 300x200 with 1 Axes>)"
      ]
     },
     "metadata": {},
     "output_type": "display_data"
    }
   ],
   "source": [
    "#plot\n",
    "f1 = PyPlot.figure(figsize=(3,2))\n",
    "PyPlot.plot(0:t,out[\"relative_number_females\"].adult,c=\"black\",\"-\",label=\"Relative no. females\")\n",
    "PyPlot.plot(0:t,out[\"allelefreq_zygote\"].a,c=\"#c00000\",label=\"edit\")\n",
    "PyPlot.plot(0:t,out[\"yfreq_zygote\"].y,c=\"#00b0f0\",\"-\",label=\"YLE\")\n",
    "PyPlot.ylim(0,1.02)\n",
    "PyPlot.xlim(0,t)\n",
    "PyPlot.legend(bbox_to_anchor=(1.0, 1.0,))\n",
    "\n",
    "PyPlot.show()\n"
   ]
  },
  {
   "cell_type": "markdown",
   "id": "b6319351",
   "metadata": {},
   "source": [
    "## Figure 1"
   ]
  },
  {
   "cell_type": "code",
   "execution_count": 8,
   "id": "e677bba9",
   "metadata": {},
   "outputs": [],
   "source": [
    "#SIT\n",
    "pdict = Dict()\n",
    "\n",
    "pdict[saf]=1.0\n",
    "pdict[haf]=1.0\n",
    "pdict[sαf]=1.0\n",
    "pdict[hαf]=1.0\n",
    "pdict[saαf]=1.0\n",
    "\n",
    "pdict[sam]=1.0\n",
    "pdict[ham]=1.0\n",
    "pdict[sαm]=1.0\n",
    "pdict[hαm]=1.0\n",
    "pdict[saαm]=1.0\n",
    "\n",
    "pdict[c]=0.0\n",
    "pdict[j]=0.0\n",
    "pdict[p]=0.0\n",
    "pdict[u]=0.0\n",
    "pdict[q]=0.0\n",
    "\n",
    "pdict[sy]=0.0\n",
    "\n",
    "SIT_subs_pdict = pdict\n",
    "SIT_subs_list = [(p,pdict[p]) for p in keys(pdict)];\n",
    "\n",
    "\n",
    "#Define release scenario\n",
    "t=15\n",
    "release_freq = 1.0\n",
    "release_genotype=[\"a\" \"a\" \"Y\"]\n",
    "fitness_effect = \"b\"\n",
    "\n",
    "#Simulate\n",
    "SIT_out = Simulate_single_release_example(SIT_subs_list,t,release_freq,release_genotype,fitness_effect=fitness_effect);\n"
   ]
  },
  {
   "cell_type": "code",
   "execution_count": 9,
   "id": "915bb2b4",
   "metadata": {},
   "outputs": [],
   "source": [
    "#fs-RIDL\n",
    "\n",
    "pdict = Dict()\n",
    "\n",
    "pdict[saf]=1.0\n",
    "pdict[haf]=1.0\n",
    "pdict[sαf]=1.0\n",
    "pdict[hαf]=1.0\n",
    "pdict[saαf]=1.0\n",
    "\n",
    "pdict[sam]=0.0\n",
    "pdict[ham]=0.0\n",
    "pdict[sαm]=0.0\n",
    "pdict[hαm]=0.0\n",
    "pdict[saαm]=0.0\n",
    "\n",
    "pdict[c]=0.0\n",
    "pdict[j]=0.0\n",
    "pdict[p]=0.0\n",
    "pdict[u]=0.0\n",
    "pdict[q]=0.0\n",
    "\n",
    "pdict[sy]=0.0\n",
    "\n",
    "fsRIDL_subs_pdict = pdict\n",
    "fsRIDL_subs_list = [(p,pdict[p]) for p in keys(pdict)];\n",
    "\n",
    "#Define release scenario\n",
    "t=15\n",
    "release_freq = 1.0\n",
    "release_genotype=[\"a\" \"a\" \"Y\"]\n",
    "fitness_effect = \"a\"\n",
    "\n",
    "#Simulate\n",
    "fsRIDL_out = Simulate_single_release_example(fsRIDL_subs_list,t,release_freq,release_genotype,fitness_effect=fitness_effect);\n"
   ]
  },
  {
   "cell_type": "code",
   "execution_count": 10,
   "id": "f117c4f0",
   "metadata": {},
   "outputs": [],
   "source": [
    "#YLE\n",
    "\n",
    "pdict = Dict()\n",
    "\n",
    "pdict[saf]=1.0\n",
    "pdict[haf]=1.0\n",
    "pdict[sαf]=1.0\n",
    "pdict[hαf]=1.0\n",
    "pdict[saαf]=1.0\n",
    "\n",
    "pdict[sam]=0.0\n",
    "pdict[ham]=0.0\n",
    "pdict[sαm]=0.0\n",
    "pdict[hαm]=0.0\n",
    "pdict[saαm]=0.0\n",
    "\n",
    "pdict[c]=1.0\n",
    "pdict[j]=0.0\n",
    "pdict[p]=0.0\n",
    "pdict[u]=1.0\n",
    "pdict[q]=0.0\n",
    "\n",
    "pdict[sy]=0.0\n",
    "\n",
    "YLE_subs_pdict = pdict\n",
    "YLE_subs_list = [(p,pdict[p]) for p in keys(pdict)];\n",
    "\n",
    "#Define release scenario\n",
    "t=15\n",
    "release_freq = 1.0\n",
    "release_genotype=[\"a\" \"a\" \"y\"]\n",
    "fitness_effect = \"a\"\n",
    "\n",
    "\n",
    "#Simulate\n",
    "YLE_out = Simulate_single_release_example(YLE_subs_list,t,release_freq,release_genotype,fitness_effect=fitness_effect);\n"
   ]
  },
  {
   "cell_type": "code",
   "execution_count": 11,
   "id": "d1bcd5c5",
   "metadata": {},
   "outputs": [
    {
     "data": {
      "image/png": "[encoded data removed]",
      "text/plain": [
       "PyPlot.Figure(PyObject <Figure size 300x200 with 1 Axes>)"
      ]
     },
     "metadata": {},
     "output_type": "display_data"
    }
   ],
   "source": [
    "#Plot allele frequencies\n",
    "f1 = PyPlot.figure(figsize=(3,2))\n",
    "PyPlot.plot(0:t,SIT_out[\"allelefreq_reproadult_male\"].a,c=\"#f58b2f\",\"-\",label=\"SIT\")\n",
    "PyPlot.plot(0:t,fsRIDL_out[\"allelefreq_reproadult_male\"].a,c=\"#c00000\",\"-\",label=\"fsRIDL\")\n",
    "PyPlot.plot(0:t,YLE_out[\"yfreq_reproadult\"].y,c=\"#00b0f0\",\"-\",label=\"YLE\")\n",
    "\n",
    "PyPlot.ylim(0,1.02)\n",
    "PyPlot.xlim(0,t)\n",
    "PyPlot.legend(bbox_to_anchor=(1.0, 1.0,))\n",
    "\n",
    "PyPlot.show()\n"
   ]
  },
  {
   "cell_type": "code",
   "execution_count": 12,
   "id": "88c8f85a",
   "metadata": {},
   "outputs": [
    {
     "data": {
      "image/png": "[encoded data removed]",
      "text/plain": [
       "PyPlot.Figure(PyObject <Figure size 300x200 with 1 Axes>)"
      ]
     },
     "metadata": {},
     "output_type": "display_data"
    }
   ],
   "source": [
    "#Plot relative no. females\n",
    "f1 = PyPlot.figure(figsize=(3,2))\n",
    "PyPlot.plot(0:t,YLE_out[\"relative_number_females\"].adult,c=\"#00b0f0\",\"-\",label=\"YLE\")\n",
    "PyPlot.plot(0:t,SIT_out[\"relative_number_females\"].adult,c=\"#f58b2f\",\"-\",label=\"SIT\")\n",
    "PyPlot.plot(0:t,fsRIDL_out[\"relative_number_females\"].adult,c=\"#c00000\",\"-\",label=\"fsRIDL\")\n",
    "\n",
    "PyPlot.ylim(0,1.02)\n",
    "PyPlot.xlim(0,t)\n",
    "\n",
    "PyPlot.show()\n"
   ]
  },
  {
   "cell_type": "markdown",
   "id": "0d021d8f",
   "metadata": {},
   "source": [
    "## Figure 5 - Sensitivity analysis using experimental data as baseline"
   ]
  },
  {
   "cell_type": "markdown",
   "id": "dying-holly",
   "metadata": {
    "heading_collapsed": true
   },
   "source": [
    "#### Calculation of parameters from experimental data"
   ]
  },
  {
   "cell_type": "code",
   "execution_count": 13,
   "id": "equipped-musician",
   "metadata": {
    "hidden": true
   },
   "outputs": [
    {
     "data": {
      "text/plain": [
       "1-element Vector{Sym{PyCall.PyObject}}:\n",
       " 0.0430107526881721"
      ]
     },
     "execution_count": 13,
     "metadata": {},
     "output_type": "execute_result"
    }
   ],
   "source": [
    "# Converting the proportion of offspring carrying the construct to cleavage and joining rates \n",
    "D, E, U = symbols(\"d e u\");\n",
    "\n",
    "#d = transmission rate - proportion of offspring carrying construct from a het x WT cross\n",
    "#e = probability of cleavage and homing. e = 2(d-0.5)\n",
    "#u = proportion of non-homed alleles which are R\n",
    "\n",
    "non_homed = 1-E #probability of not homing\n",
    "WT = non_homed*(1-U) #probability of being WT\n",
    "NHEJ = non_homed*U #probability of being NHEJ\n",
    "\n",
    "# c = probability of cleavage = homing + NHEJ\n",
    "C = E+NHEJ\n",
    "\n",
    "# j = probability of joining given cleavage\n",
    "J= simplify(NHEJ/C)\n",
    "\n",
    "#Experimental data\n",
    "d_ = [0.945]\n",
    "e_ = (d_.-0.5).*2\n",
    "\n",
    "#Proportion of all alleles which are neither WT nor the released mutation\n",
    "Altmut = 0.02\n",
    "#Proportion of all non-homed alleles which are NHEJ products\n",
    "u_ = Altmut./(1 .-d_)\n",
    "\n",
    "c_ = [subs(C,(E,e_[i]),(U,u_[i])) for i in 1:length(e_)]\n",
    "j_ = [subs(J,(E,e_[i]),(U,u_[i])) for i in 1:length(e_)]"
   ]
  },
  {
   "cell_type": "code",
   "execution_count": 14,
   "id": "9e68ae6f",
   "metadata": {},
   "outputs": [
    {
     "data": {
      "text/plain": [
       "1-element Vector{Sym{PyCall.PyObject}}:\n",
       " 0.930000000000000"
      ]
     },
     "execution_count": 14,
     "metadata": {},
     "output_type": "execute_result"
    }
   ],
   "source": [
    "c_"
   ]
  },
  {
   "cell_type": "code",
   "execution_count": 15,
   "id": "086ce4dc",
   "metadata": {
    "scrolled": true
   },
   "outputs": [
    {
     "data": {
      "text/plain": [
       "1-element Vector{Sym{PyCall.PyObject}}:\n",
       " 0.0430107526881721"
      ]
     },
     "execution_count": 15,
     "metadata": {},
     "output_type": "execute_result"
    }
   ],
   "source": [
    "j_"
   ]
  },
  {
   "cell_type": "markdown",
   "id": "a25af949",
   "metadata": {},
   "source": [
    "#### Calculation of release rate required for experimental case"
   ]
  },
  {
   "cell_type": "code",
   "execution_count": 16,
   "id": "015c1e10",
   "metadata": {},
   "outputs": [
    {
     "data": {
      "text/plain": [
       "2-element Vector{Float64}:\n",
       " 0.05\n",
       " 0.01"
      ]
     },
     "execution_count": 16,
     "metadata": {},
     "output_type": "execute_result"
    }
   ],
   "source": [
    "n_releases = 36\n",
    "t=n_releases\n",
    "#Set a range of intrinsic rates of increase\n",
    "Rm_vec = [2,6,12];\n",
    "thresholds = [0.05,0.01]"
   ]
  },
  {
   "cell_type": "code",
   "execution_count": 17,
   "id": "bd6ce18a",
   "metadata": {},
   "outputs": [
    {
     "data": {
      "text/plain": [
       "2×3 Matrix{Float64}:\n",
       " 0.0302  0.1708  0.5168\n",
       " 0.0329  0.1824  0.5739"
      ]
     },
     "execution_count": 17,
     "metadata": {},
     "output_type": "execute_result"
    }
   ],
   "source": [
    "#Release rates at baseline for 99% and \n",
    "YLEdsx_rr_rm = Array{Float64}(undef,2,3)\n",
    "y=0\n",
    "for Rm in [2,6,12]\n",
    "    y=y+1\n",
    "    x=0\n",
    "    for threshold in thresholds\n",
    "        x=x+1\n",
    "        rr = find_release_rate_required(\n",
    "                        n_releases,\n",
    "                        0.0,\n",
    "                        threshold,\n",
    "                        YLE_subs_pdict;\n",
    "                        t=n_releases,\n",
    "                        release_genotype=[\"A\" \"a\" \"y\"],\n",
    "                        fitness_effect = \"a\",\n",
    "                        param_label=[c,j,p,q,hαf],\n",
    "                        param_mod=[c_[1],j_[1],0.0,0.0,0.0],\n",
    "                        Rm=Rm)\n",
    "        \n",
    "        YLEdsx_rr_rm[x,y]=rr\n",
    "    end\n",
    "end\n",
    "\n",
    "YLEdsx_rr_rm"
   ]
  },
  {
   "cell_type": "code",
   "execution_count": 18,
   "id": "30a25c8e",
   "metadata": {},
   "outputs": [
    {
     "data": {
      "text/plain": [
       "1"
      ]
     },
     "execution_count": 18,
     "metadata": {},
     "output_type": "execute_result"
    }
   ],
   "source": [
    "#Perform the sensitivity analysis for a goal of 95% suppression\n",
    "threshold = 0.05\n",
    "\n",
    "#Define colours for plot lines at different Rms\n",
    "cols = [\"#f3bf02\",\"#f58b2f\",\"#ff5177\"]\n",
    "set=1"
   ]
  },
  {
   "cell_type": "markdown",
   "id": "42b7e127",
   "metadata": {},
   "source": [
    "#### Cleavage in hets "
   ]
  },
  {
   "cell_type": "code",
   "execution_count": 47,
   "id": "d0d6f9ad",
   "metadata": {},
   "outputs": [],
   "source": [
    "#Cleavage in hets \n",
    "param_mod_list = collect(0.0:0.01:1.0)\n",
    "param_label=[hαf,c,j]\n",
    "rr_output = Array{Float64}(undef,length(param_mod_list),length(Rm_vec))\n",
    "\n",
    "y = 0\n",
    "for Rm in Rm_vec\n",
    "    y = y+1\n",
    "    x = 0\n",
    "    for param_mod in param_mod_list\n",
    "        x = x + 1\n",
    "        rr = find_release_rate_required(\n",
    "            n_releases,\n",
    "            0.0,\n",
    "            threshold,\n",
    "            YLE_subs_pdict;\n",
    "            t=n_releases,\n",
    "            release_genotype=[\"A\" \"a\" \"y\"],\n",
    "            fitness_effect = \"a\",\n",
    "            param_mod=[0.0,param_mod,j_[set]],\n",
    "            param_label=param_label,\n",
    "            Rm = Rm)\n",
    "\n",
    "        rr_output[x,y] = rr\n",
    "    end\n",
    "end\n"
   ]
  },
  {
   "cell_type": "code",
   "execution_count": 48,
   "id": "8fbdb14b",
   "metadata": {},
   "outputs": [
    {
     "name": "stderr",
     "output_type": "stream",
     "text": [
      "sys:1: UserWarning: FigureCanvasAgg is non-interactive, and thus cannot be shown\n"
     ]
    },
    {
     "data": {
      "image/png": "[encoded data removed]",
      "text/plain": [
       "PyPlot.Figure(PyObject <Figure size 300x250 with 1 Axes>)"
      ]
     },
     "metadata": {},
     "output_type": "display_data"
    }
   ],
   "source": [
    "#plot\n",
    "f1 = PyPlot.figure(figsize=(3,2.5))\n",
    "for i in 1:3\n",
    "    PyPlot.plot(param_mod_list,rr_output[:,i],cols[i])\n",
    "    PyPlot.plot(Float64(c_[set]),YLEdsx_rr_rm[1,i],\"o\",color = cols[i])\n",
    "end\n",
    "\n",
    "PyPlot.xlim(0,maximum(param_mod_list))\n",
    "PyPlot.yscale(\"log\")\n",
    "PyPlot.ylim(0.018,2)\n",
    "PyPlot.yticks([0.01,0.03,0.1,0.3,1],[0.01,0.03,0.1,0.3,1])\n",
    "\n",
    "PyPlot.ylabel(\"Release rate required\")\n",
    "PyPlot.xlabel(\"Cleavage in hets (c)\")\n",
    " \n",
    "PyPlot.show()\n"
   ]
  },
  {
   "cell_type": "markdown",
   "id": "4e238181",
   "metadata": {},
   "source": [
    "#### NHEJ in hets "
   ]
  },
  {
   "cell_type": "code",
   "execution_count": 49,
   "id": "939239a3",
   "metadata": {},
   "outputs": [],
   "source": [
    "#NHEJ in hets\n",
    "param_mod_list = collect(0.0:0.01:1.0)\n",
    "param_label = [hαf,c,j]\n",
    "rr_output = Array{Float64}(undef,length(param_mod_list),length(Rm_vec))\n",
    "\n",
    "y = 0\n",
    "for Rm in Rm_vec\n",
    "    y = y+1\n",
    "    x = 0\n",
    "    for param_mod in param_mod_list\n",
    "        x = x + 1\n",
    "        rr = find_release_rate_required(\n",
    "            n_releases,\n",
    "            0.0,\n",
    "            threshold,\n",
    "            YLE_subs_pdict;\n",
    "            t=n_releases,\n",
    "            release_genotype=[\"A\" \"a\" \"y\"],\n",
    "            fitness_effect = \"a\",\n",
    "            param_mod=[0.0,c_[set],param_mod],\n",
    "            param_label=param_label,\n",
    "            Rm = Rm)\n",
    "\n",
    "        rr_output[x,y] = rr\n",
    "    end\n",
    "end\n"
   ]
  },
  {
   "cell_type": "code",
   "execution_count": 50,
   "id": "c5bfc96d",
   "metadata": {},
   "outputs": [
    {
     "name": "stderr",
     "output_type": "stream",
     "text": [
      "sys:1: UserWarning: FigureCanvasAgg is non-interactive, and thus cannot be shown\n"
     ]
    },
    {
     "data": {
      "image/png": "[encoded data removed]",
      "text/plain": [
       "PyPlot.Figure(PyObject <Figure size 300x250 with 1 Axes>)"
      ]
     },
     "metadata": {},
     "output_type": "display_data"
    }
   ],
   "source": [
    "#plot\n",
    "f1 = PyPlot.figure(figsize=(3,2.5))\n",
    "for i in 1:3\n",
    "    PyPlot.plot(param_mod_list,rr_output[:,i],cols[i])\n",
    "    PyPlot.plot(Float64(j_[set]),YLEdsx_rr_rm[1,i],\"o\",color = cols[i])\n",
    "end\n",
    "\n",
    "PyPlot.xlim(0,maximum(param_mod_list))\n",
    "PyPlot.yscale(\"log\")\n",
    "PyPlot.ylim(0.018,2)\n",
    "PyPlot.yticks([0.01,0.03,0.1,0.3,1],[0.01,0.03,0.1,0.3,1])\n",
    "\n",
    "PyPlot.ylabel(\"Release rate required\")\n",
    "PyPlot.xlabel(\"NHEJ in hets (j)\")\n",
    " \n",
    "PyPlot.show()\n"
   ]
  },
  {
   "cell_type": "markdown",
   "id": "1203053b",
   "metadata": {},
   "source": [
    "#### Mutation rate in WT"
   ]
  },
  {
   "cell_type": "code",
   "execution_count": 51,
   "id": "c6796776",
   "metadata": {},
   "outputs": [],
   "source": [
    "#NHEJ in hets\n",
    "param_mod_list = collect(0:0.01:1.0)\n",
    "param_label = [hαf,c,j,u]\n",
    "rr_output = Array{Float64}(undef,length(param_mod_list),length(Rm_vec))\n",
    "\n",
    "y = 0\n",
    "for Rm in Rm_vec\n",
    "    y = y+1\n",
    "    x = 0\n",
    "    for param_mod in param_mod_list\n",
    "        x = x + 1\n",
    "        rr = find_release_rate_required(\n",
    "            n_releases,\n",
    "            0.0,\n",
    "            threshold,\n",
    "            YLE_subs_pdict;\n",
    "            t=n_releases,\n",
    "            release_genotype=[\"A\" \"a\" \"y\"],\n",
    "            fitness_effect = \"a\",\n",
    "            param_mod=[0.0,c_[set],j_[set],param_mod],\n",
    "            param_label=param_label,\n",
    "            Rm = Rm)\n",
    "\n",
    "        rr_output[x,y] = rr\n",
    "    end\n",
    "end"
   ]
  },
  {
   "cell_type": "code",
   "execution_count": 52,
   "id": "a42edec0",
   "metadata": {},
   "outputs": [
    {
     "name": "stderr",
     "output_type": "stream",
     "text": [
      "sys:1: UserWarning: FigureCanvasAgg is non-interactive, and thus cannot be shown\n"
     ]
    },
    {
     "data": {
      "image/png": "[encoded data removed]",
      "text/plain": [
       "PyPlot.Figure(PyObject <Figure size 300x250 with 1 Axes>)"
      ]
     },
     "metadata": {},
     "output_type": "display_data"
    }
   ],
   "source": [
    "#plot\n",
    "f1 = PyPlot.figure(figsize=(3,2.5))\n",
    "for i in 1:3\n",
    "    PyPlot.plot(param_mod_list,rr_output[:,i],cols[i])\n",
    "    PyPlot.plot(Float64(1.0),YLEdsx_rr_rm[1,i],\"o\",color = cols[i])\n",
    "end\n",
    "\n",
    "PyPlot.xlim(0,maximum(param_mod_list))\n",
    "PyPlot.yscale(\"log\")\n",
    "PyPlot.ylim(0.018,2)\n",
    "PyPlot.yticks([0.01,0.03,0.1,0.3,1],[0.01,0.03,0.1,0.3,1])\n",
    "\n",
    "PyPlot.ylabel(\"Release rate required\")\n",
    "PyPlot.xlabel(\"Mutation rate in WT (μ)\")\n",
    " \n",
    "PyPlot.show()\n"
   ]
  },
  {
   "cell_type": "markdown",
   "id": "bbe7dc08",
   "metadata": {},
   "source": [
    "#### Dominance coefficient of mutation"
   ]
  },
  {
   "cell_type": "code",
   "execution_count": 53,
   "id": "8dd18519",
   "metadata": {},
   "outputs": [],
   "source": [
    "#Dominance coefficient of mutation\n",
    "param_mod_list = collect(0:0.01:1.0)\n",
    "param_label = [hαf,c,j,haf]\n",
    "rr_output = Array{Float64}(undef,length(param_mod_list),length(Rm_vec))\n",
    "\n",
    "y = 0\n",
    "for Rm in Rm_vec\n",
    "    y = y+1\n",
    "    x = 0\n",
    "    for param_mod in param_mod_list\n",
    "        x = x + 1\n",
    "        rr = find_release_rate_required(\n",
    "            n_releases,\n",
    "            0.0,\n",
    "            threshold,\n",
    "            YLE_subs_pdict;\n",
    "            t=n_releases,\n",
    "            release_genotype=[\"A\" \"a\" \"y\"],\n",
    "            fitness_effect = \"a\",\n",
    "            param_mod=[0.0,c_[set],j_[set],param_mod],\n",
    "            param_label=param_label,\n",
    "            Rm = Rm)\n",
    "\n",
    "        rr_output[x,y] = rr\n",
    "    end\n",
    "end\n"
   ]
  },
  {
   "cell_type": "code",
   "execution_count": 54,
   "id": "89c91793",
   "metadata": {},
   "outputs": [
    {
     "name": "stderr",
     "output_type": "stream",
     "text": [
      "sys:1: UserWarning: FigureCanvasAgg is non-interactive, and thus cannot be shown\n"
     ]
    },
    {
     "data": {
      "image/png": "[encoded data removed]",
      "text/plain": [
       "PyPlot.Figure(PyObject <Figure size 300x250 with 1 Axes>)"
      ]
     },
     "metadata": {},
     "output_type": "display_data"
    }
   ],
   "source": [
    "#plot\n",
    "f1 = PyPlot.figure(figsize=(3,2.5))\n",
    "for i in 1:3\n",
    "    PyPlot.plot(param_mod_list,rr_output[:,i],cols[i])\n",
    "    PyPlot.plot(1.0,YLEdsx_rr_rm[1,i],\"o\",color = cols[i])\n",
    "end\n",
    "\n",
    "PyPlot.xlim(0,maximum(param_mod_list))\n",
    "PyPlot.yscale(\"log\")\n",
    "PyPlot.ylim(0.018,2)\n",
    "PyPlot.yticks([0.01,0.03,0.1,0.3,1],[0.01,0.03,0.1,0.3,1])\n",
    "\n",
    "PyPlot.ylabel(\"Release rate required\")\n",
    "PyPlot.xlabel(\"Dominance coefficient of mutation (ha)\")\n",
    " \n",
    "PyPlot.show()\n"
   ]
  },
  {
   "cell_type": "markdown",
   "id": "d39654e3",
   "metadata": {},
   "source": [
    "#### Dominance coefficientof NHEJ"
   ]
  },
  {
   "cell_type": "code",
   "execution_count": 55,
   "id": "3b4ab31f",
   "metadata": {},
   "outputs": [],
   "source": [
    "#Dominance coefficient of NHEJ\n",
    "param_mod_list = collect(0:0.01:1.0)\n",
    "param_label = [hαf,c,j]\n",
    "rr_output = Array{Float64}(undef,length(param_mod_list),length(Rm_vec))\n",
    "\n",
    "y = 0\n",
    "for Rm in Rm_vec\n",
    "    y = y+1\n",
    "    x = 0\n",
    "    for param_mod in param_mod_list\n",
    "        x = x + 1\n",
    "        rr = find_release_rate_required(\n",
    "            n_releases,\n",
    "            0.0,\n",
    "            threshold,\n",
    "            YLE_subs_pdict;\n",
    "            t=n_releases,\n",
    "            release_genotype=[\"A\" \"a\" \"y\"],\n",
    "            fitness_effect = \"a\",\n",
    "            param_mod=[param_mod,c_[set],j_[set]],\n",
    "            param_label=param_label,\n",
    "            Rm = Rm)\n",
    "\n",
    "        rr_output[x,y] = rr\n",
    "    end\n",
    "end\n"
   ]
  },
  {
   "cell_type": "code",
   "execution_count": 56,
   "id": "ebc609e1",
   "metadata": {},
   "outputs": [
    {
     "name": "stderr",
     "output_type": "stream",
     "text": [
      "sys:1: UserWarning: FigureCanvasAgg is non-interactive, and thus cannot be shown\n"
     ]
    },
    {
     "data": {
      "image/png": "[encoded data removed]",
      "text/plain": [
       "PyPlot.Figure(PyObject <Figure size 300x250 with 1 Axes>)"
      ]
     },
     "metadata": {},
     "output_type": "display_data"
    }
   ],
   "source": [
    "#plot\n",
    "f1 = PyPlot.figure(figsize=(3,2.5))\n",
    "for i in 1:3\n",
    "    PyPlot.plot(param_mod_list,rr_output[:,i],cols[i])\n",
    "    PyPlot.plot(0.0,YLEdsx_rr_rm[1,i],\"o\",color = cols[i])\n",
    "end\n",
    "\n",
    "PyPlot.xlim(0,maximum(param_mod_list))\n",
    "PyPlot.yscale(\"log\")\n",
    "PyPlot.ylim(0.018,2)\n",
    "PyPlot.yticks([0.01,0.03,0.1,0.3,1],[0.01,0.03,0.1,0.3,1])\n",
    "\n",
    "PyPlot.ylabel(\"Release rate required\")\n",
    "PyPlot.xlabel(\"Dominance coefficient of mutation (ha)\")\n",
    " \n",
    "PyPlot.show()"
   ]
  },
  {
   "cell_type": "markdown",
   "id": "7728bf42",
   "metadata": {},
   "source": [
    "#### Proportion of NHEJ which are dominant"
   ]
  },
  {
   "cell_type": "code",
   "execution_count": 57,
   "id": "b5dfe40e",
   "metadata": {},
   "outputs": [],
   "source": [
    "#Proportion of NHEJ which are dominant\n",
    "param_mod_list = collect(0:0.01:1.0)\n",
    "param_label = [hαf,c,j,p,q]\n",
    "rr_output = Array{Float64}(undef,length(param_mod_list),length(Rm_vec))\n",
    "\n",
    "y = 0\n",
    "for Rm in Rm_vec\n",
    "    y = y+1\n",
    "    x = 0\n",
    "    for param_mod in param_mod_list\n",
    "        x = x + 1\n",
    "        rr = find_release_rate_required(\n",
    "            n_releases,\n",
    "            0.0,\n",
    "            threshold,\n",
    "            YLE_subs_pdict;\n",
    "            t=n_releases,\n",
    "            release_genotype=[\"A\" \"a\" \"y\"],\n",
    "            fitness_effect = \"a\",\n",
    "            param_mod=[0.0,c_[set],j_[set],param_mod,param_mod],\n",
    "            param_label=param_label,\n",
    "            Rm = Rm)\n",
    "\n",
    "        rr_output[x,y] = rr\n",
    "    end\n",
    "end\n"
   ]
  },
  {
   "cell_type": "code",
   "execution_count": 58,
   "id": "c9e2f1b0",
   "metadata": {},
   "outputs": [
    {
     "name": "stderr",
     "output_type": "stream",
     "text": [
      "sys:1: UserWarning: FigureCanvasAgg is non-interactive, and thus cannot be shown\n"
     ]
    },
    {
     "data": {
      "image/png": "[encoded data removed]",
      "text/plain": [
       "PyPlot.Figure(PyObject <Figure size 300x250 with 1 Axes>)"
      ]
     },
     "metadata": {},
     "output_type": "display_data"
    }
   ],
   "source": [
    "#plot\n",
    "f1 = PyPlot.figure(figsize=(3,2.5))\n",
    "for i in 1:3\n",
    "    PyPlot.plot(param_mod_list,rr_output[:,i],cols[i])\n",
    "    PyPlot.plot(0.0,YLEdsx_rr_rm[1,i],\"o\",color = cols[i])\n",
    "end\n",
    "\n",
    "PyPlot.xlim(0,maximum(param_mod_list))\n",
    "PyPlot.yscale(\"log\")\n",
    "PyPlot.ylim(0.018,2)\n",
    "PyPlot.yticks([0.01,0.03,0.1,0.3,1],[0.01,0.03,0.1,0.3,1])\n",
    "\n",
    "PyPlot.ylabel(\"Release rate required\")\n",
    "PyPlot.xlabel(\"Dominance coefficient of mutation (ha)\")\n",
    " \n",
    "PyPlot.show()"
   ]
  },
  {
   "cell_type": "markdown",
   "id": "02f74bb0",
   "metadata": {},
   "source": [
    "## Figure 6 - Time course"
   ]
  },
  {
   "cell_type": "code",
   "execution_count": 59,
   "id": "f537c6a0",
   "metadata": {},
   "outputs": [],
   "source": [
    "#Define parametr values for simulations based on experimental data\n",
    "YLEdsx_subs_pdict = deepcopy(YLE_subs_pdict)\n",
    "YLEdsx_subs_pdict[c] = c_[1] \n",
    "YLEdsx_subs_pdict[j] = j_[1] \n",
    "YLEdsx_subs_pdict[hαf] = 0.0\n",
    "YLEdsx_subs_list = [(p,YLEdsx_subs_pdict[p]) for p in keys(pdict)];"
   ]
  },
  {
   "cell_type": "markdown",
   "id": "df1bfbfa",
   "metadata": {},
   "source": [
    "### Single release 100%"
   ]
  },
  {
   "cell_type": "code",
   "execution_count": 60,
   "id": "588906bf",
   "metadata": {},
   "outputs": [],
   "source": [
    "#Single release 100%\n",
    "t=40\n",
    "release_freq = 1.0\n",
    "release_genotype=[\"A\" \"a\" \"y\"]\n",
    "fitness_effect = \"a\"\n",
    "release_regime = false\n",
    "\n",
    "YLESingle_out = Simulate_single_release_example(YLEdsx_subs_list,t,release_freq,release_genotype,release_regime = false,fitness_effect = \"a\");"
   ]
  },
  {
   "cell_type": "code",
   "execution_count": 61,
   "id": "40462727",
   "metadata": {},
   "outputs": [
    {
     "name": "stderr",
     "output_type": "stream",
     "text": [
      "sys:1: UserWarning: FigureCanvasAgg is non-interactive, and thus cannot be shown\n"
     ]
    },
    {
     "data": {
      "image/png": "[encoded data removed]",
      "text/plain": [
       "PyPlot.Figure(PyObject <Figure size 300x200 with 1 Axes>)"
      ]
     },
     "metadata": {},
     "output_type": "display_data"
    }
   ],
   "source": [
    "f1 = PyPlot.figure(figsize=(3,2))\n",
    "\n",
    "PyPlot.plot(0:t,YLESingle_out[\"relative_number_females\"].adult,c=\"black\",\"-\")\n",
    "PyPlot.plot(0:t,YLESingle_out[\"allelefreq_zygote\"].a,c=\"#c00000\",\"-\")\n",
    "PyPlot.plot(0:t,YLESingle_out[\"allelefreq_zygote\"].α,c=\"#c00000\",\"--\")\n",
    "PyPlot.plot(0:t,YLESingle_out[\"yfreq_zygote\"].y,c=\"#00b0f0\",\"-\")\n",
    "\n",
    "PyPlot.ylim(0,1.02)\n",
    "PyPlot.xlim(0,t)\n",
    "\n",
    "PyPlot.show()"
   ]
  },
  {
   "cell_type": "markdown",
   "id": "ba1c44f1",
   "metadata": {},
   "source": [
    "### Repeat release 20% for 6 generations"
   ]
  },
  {
   "cell_type": "code",
   "execution_count": 62,
   "id": "c0c150f7",
   "metadata": {},
   "outputs": [],
   "source": [
    "#Repeat release 20% for 6 generations\n",
    "\n",
    "t=40\n",
    "release_freq = 0.2\n",
    "release_genotype=[\"A\" \"a\" \"y\"]\n",
    "fitness_effect = \"a\"\n",
    "n_releases = 6\n",
    "release_regime = repeat([0.0],t)\n",
    "for i in 1:n_releases\n",
    "    release_regime[i] = release_freq\n",
    "end\n",
    "\n",
    "YLE6Rep_out = Simulate_single_release_example(YLEdsx_subs_list,t,release_freq,release_genotype,release_regime = release_regime,fitness_effect = \"a\");\n"
   ]
  },
  {
   "cell_type": "code",
   "execution_count": 63,
   "id": "07cd5f28",
   "metadata": {},
   "outputs": [
    {
     "data": {
      "image/png": "[encoded data removed]",
      "text/plain": [
       "PyPlot.Figure(PyObject <Figure size 300x200 with 1 Axes>)"
      ]
     },
     "metadata": {},
     "output_type": "display_data"
    }
   ],
   "source": [
    "f1 = PyPlot.figure(figsize=(3,2))\n",
    "\n",
    "PyPlot.plot(0:t,YLE6Rep_out[\"relative_number_females\"].adult,c=\"black\",\"-\")\n",
    "PyPlot.plot(0:t,YLE6Rep_out[\"allelefreq_zygote\"].a,c=\"#c00000\",\"-\")\n",
    "PyPlot.plot(0:t,YLE6Rep_out[\"allelefreq_zygote\"].α,c=\"#c00000\",\"--\")\n",
    "PyPlot.plot(0:t,YLE6Rep_out[\"yfreq_zygote\"].y,c=\"#00b0f0\",\"-\")\n",
    "\n",
    "PyPlot.ylim(0,1.02)\n",
    "PyPlot.xlim(0,t)\n",
    "\n",
    "PyPlot.show()"
   ]
  },
  {
   "cell_type": "markdown",
   "id": "d9941e07",
   "metadata": {},
   "source": [
    "### Repeat release 20% every generation"
   ]
  },
  {
   "cell_type": "code",
   "execution_count": 64,
   "id": "68da929d",
   "metadata": {},
   "outputs": [],
   "source": [
    "#Repeat release 20% every generation\n",
    "\n",
    "t=40\n",
    "release_freq = 0.2\n",
    "release_genotype=[\"A\" \"a\" \"y\"]\n",
    "fitness_effect = \"a\"\n",
    "n_releases = t\n",
    "release_regime = repeat([0.0],t)\n",
    "for i in 1:n_releases\n",
    "    release_regime[i] = release_freq\n",
    "end\n",
    "\n",
    "YLERep_out = Simulate_single_release_example(YLEdsx_subs_list,t,release_freq,release_genotype,release_regime = release_regime,fitness_effect = \"a\");"
   ]
  },
  {
   "cell_type": "code",
   "execution_count": 65,
   "id": "5afdde35",
   "metadata": {},
   "outputs": [
    {
     "data": {
      "image/png": "[encoded data removed]",
      "text/plain": [
       "PyPlot.Figure(PyObject <Figure size 300x200 with 1 Axes>)"
      ]
     },
     "metadata": {},
     "output_type": "display_data"
    }
   ],
   "source": [
    "f1 = PyPlot.figure(figsize=(3,2))\n",
    "\n",
    "PyPlot.plot(0:t,YLERep_out[\"relative_number_females\"].adult,c=\"black\",\"-\")\n",
    "PyPlot.plot(0:t,YLERep_out[\"allelefreq_zygote\"].a,c=\"#c00000\",\"-\")\n",
    "PyPlot.plot(0:t,YLERep_out[\"allelefreq_zygote\"].α,c=\"#c00000\",\"--\")\n",
    "PyPlot.plot(0:t,YLERep_out[\"yfreq_zygote\"].y,c=\"#00b0f0\",\"-\")\n",
    "\n",
    "PyPlot.ylim(0,1.02)\n",
    "PyPlot.xlim(0,t)\n",
    "\n",
    "PyPlot.show()"
   ]
  },
  {
   "cell_type": "markdown",
   "id": "85cd281b",
   "metadata": {},
   "source": [
    "## Table 1"
   ]
  },
  {
   "cell_type": "markdown",
   "id": "63de0441",
   "metadata": {},
   "source": [
    "### Finding the release rates for different single locus strategie"
   ]
  },
  {
   "cell_type": "code",
   "execution_count": 81,
   "id": "824c9a82",
   "metadata": {},
   "outputs": [
    {
     "data": {
      "text/plain": [
       "2-element Vector{Float64}:\n",
       " 0.05\n",
       " 0.01"
      ]
     },
     "execution_count": 81,
     "metadata": {},
     "output_type": "execute_result"
    }
   ],
   "source": [
    "#Define the number of releases in which the desired level of suppression is needed\n",
    "n_releases = 36\n",
    "t=36\n",
    "#Define the level of suppression\n",
    "thresholds = [0.05,0.01]"
   ]
  },
  {
   "cell_type": "code",
   "execution_count": 82,
   "id": "a2dfd7bf",
   "metadata": {},
   "outputs": [
    {
     "data": {
      "text/plain": [
       "2-element Vector{Any}:\n",
       " 0.03650000000000002\n",
       " 0.040800000000000024"
      ]
     },
     "execution_count": 82,
     "metadata": {},
     "output_type": "execute_result"
    }
   ],
   "source": [
    "#Optimal YLE\n",
    "YLE_rr = []\n",
    "for threshold in thresholds\n",
    "    rr = find_release_rate_required(\n",
    "                    n_releases,\n",
    "                    0.0,\n",
    "                    threshold,\n",
    "                    YLE_subs_pdict;\n",
    "                    t=n_releases,\n",
    "                    release_genotype=[\"a\" \"a\" \"y\"],\n",
    "                    fitness_effect = \"a\")\n",
    "    push!(YLE_rr,rr)\n",
    "end\n",
    "YLE_rr"
   ]
  },
  {
   "cell_type": "code",
   "execution_count": 83,
   "id": "09627c3c",
   "metadata": {},
   "outputs": [
    {
     "data": {
      "text/plain": [
       "2-element Vector{Any}:\n",
       " 0.17079999999999995\n",
       " 0.1824"
      ]
     },
     "execution_count": 83,
     "metadata": {},
     "output_type": "execute_result"
    }
   ],
   "source": [
    "#Empirical YLE\n",
    "YLEdsx_rr = []\n",
    "for threshold in thresholds\n",
    "    rr = find_release_rate_required(\n",
    "                    n_releases,\n",
    "                    0.0,\n",
    "                    threshold,\n",
    "                    YLE_subs_pdict;\n",
    "                    t=n_releases,\n",
    "                    release_genotype=[\"A\" \"a\" \"y\"],\n",
    "                    fitness_effect = \"a\",\n",
    "                    param_label=[c,j,p,q,hαf],\n",
    "                    param_mod=[c_[1],j_[1],0.0,0.0,0.0])\n",
    "    push!(YLEdsx_rr,rr)\n",
    "end\n",
    "YLEdsx_rr"
   ]
  },
  {
   "cell_type": "code",
   "execution_count": 84,
   "id": "3e9ccf7e",
   "metadata": {},
   "outputs": [
    {
     "data": {
      "text/plain": [
       "2-element Vector{Any}:\n",
       " 1.2969999999999995\n",
       " 1.2995999999999992"
      ]
     },
     "execution_count": 84,
     "metadata": {},
     "output_type": "execute_result"
    }
   ],
   "source": [
    "#OPtimal SIT\n",
    "SIT_rr = []\n",
    "for threshold in thresholds\n",
    "    rr = find_release_rate_required(\n",
    "                    n_releases,\n",
    "                    0.0,\n",
    "                    threshold,\n",
    "                    SIT_subs_pdict;\n",
    "                    t=n_releases,\n",
    "                    release_genotype=[\"a\" \"a\" \"Y\"],\n",
    "                    fitness_effect = \"b\")\n",
    "    push!(SIT_rr,rr)\n",
    "end\n",
    "SIT_rr"
   ]
  },
  {
   "cell_type": "code",
   "execution_count": 85,
   "id": "323e873c",
   "metadata": {},
   "outputs": [
    {
     "data": {
      "text/plain": [
       "2-element Vector{Any}:\n",
       " 0.6674\n",
       " 0.6774"
      ]
     },
     "execution_count": 85,
     "metadata": {},
     "output_type": "execute_result"
    }
   ],
   "source": [
    "#Optimal fsRIDL\n",
    "fsRIDL_rr = []\n",
    "for threshold in thresholds\n",
    "    rr = find_release_rate_required(\n",
    "                    n_releases,\n",
    "                    0.0,\n",
    "                    threshold,\n",
    "                    fsRIDL_subs_pdict;\n",
    "                    t=n_releases,\n",
    "                    release_genotype=[\"a\" \"a\" \"Y\"],\n",
    "                    fitness_effect = \"a\")\n",
    "    push!(fsRIDL_rr,rr)\n",
    "end\n",
    "fsRIDL_rr"
   ]
  },
  {
   "cell_type": "code",
   "execution_count": 86,
   "id": "308b5b24",
   "metadata": {},
   "outputs": [
    {
     "data": {
      "text/plain": [
       "2-element Vector{Any}:\n",
       " 0.4376\n",
       " 0.43920000000000003"
      ]
     },
     "execution_count": 86,
     "metadata": {},
     "output_type": "execute_result"
    }
   ],
   "source": [
    "#OPtimal RIDL\n",
    "RIDL_rr = []\n",
    "for threshold in thresholds\n",
    "    rr = find_release_rate_required(\n",
    "                    n_releases,\n",
    "                    0.0,\n",
    "                    threshold,\n",
    "                    fsRIDL_subs_pdict;\n",
    "                    t=n_releases,\n",
    "                    release_genotype=[\"a\" \"a\" \"y\"],\n",
    "                    fitness_effect = \"a\",\n",
    "                    param_label=[sam,ham,sαm,hαm,saαm],\n",
    "                    param_mod=[1.0,1.0,1.0,1.0,1.0])\n",
    "    push!(RIDL_rr,rr)\n",
    "end\n",
    "RIDL_rr"
   ]
  },
  {
   "cell_type": "markdown",
   "id": "1d7db081",
   "metadata": {},
   "source": [
    "### Finding the release rates for stratgies involving X-shredding (load in 2-locus model)\n",
    "\n",
    "Note that 3 alleles are encoded for the X-shredder containing locus, however for this project only 2 are used. "
   ]
  },
  {
   "cell_type": "markdown",
   "id": "75b4ac21",
   "metadata": {},
   "source": [
    "#### Define variables"
   ]
  },
  {
   "cell_type": "code",
   "execution_count": 87,
   "id": "b02eca77",
   "metadata": {},
   "outputs": [],
   "source": [
    "#Define all alleles, genotypes, inheritance and fitness data structures\n",
    "\n",
    "A_alleles = ['A','a','α']\n",
    "#A = WT\n",
    "#a = X-shredder\n",
    "#α = edit\n",
    "\n",
    "B_alleles = ['B','b','β'];\n",
    "#B = target site\n",
    "#b = edit 1\n",
    "#β = edit 2\n",
    "\n",
    "Y_genotypes = [\"Y\",\"y\"];\n",
    "#Y = WT\n",
    "#y = construct\n",
    "\n",
    "\n",
    "#Define all A and B allele combinations: Creating single chromosomes due to linkage\n",
    "#in females\n",
    "alleles = []\n",
    "for A in A_alleles\n",
    "    for B in B_alleles\n",
    "        push!(alleles,(A*B))\n",
    "    end\n",
    "end;\n",
    "falleles = alleles\n",
    "#in males\n",
    "alleles_m = []\n",
    "for A in A_alleles\n",
    "    for B in B_alleles\n",
    "        for Y in Y_genotypes\n",
    "            push!(alleles_m,(A*B, Y))\n",
    "        end\n",
    "    end\n",
    "end;\n",
    "malleles = alleles_m\n",
    "        \n",
    "#Define all genotypes at locus A\n",
    "A_genotypes = []\n",
    "for i in 1:length(A_alleles)\n",
    "    allele1 = A_alleles[i]\n",
    "    for j in i:length(A_alleles)\n",
    "        allele2 = A_alleles[j]\n",
    "        push!(A_genotypes,(allele1*allele2))\n",
    "    end\n",
    "end;\n",
    "       \n",
    "#Define all genotypes at locus B\n",
    "B_genotypes = []\n",
    "for i in 1:length(B_alleles)\n",
    "    allele1 = B_alleles[i]\n",
    "    for j in i:length(B_alleles)\n",
    "        allele2 = B_alleles[j]\n",
    "        push!(B_genotypes,(allele1*allele2))\n",
    "    end\n",
    "end;\n",
    "                \n",
    "#Define all genotypes for both A and B loci combined\n",
    "#in females\n",
    "genotypes_f = []\n",
    "for i in 1:length(alleles)\n",
    "    allele1 = alleles[i]\n",
    "    for j in i:length(alleles)\n",
    "        allele2 = alleles[j]\n",
    "        push!(genotypes_f,([allele1 allele2]))\n",
    "    end\n",
    "end;\n",
    "                    \n",
    "#in males\n",
    "genotypes_m = []\n",
    "for i in genotypes_f\n",
    "    allele1 = i[1]\n",
    "    allele2 = i[2]\n",
    "    for yallele in Y_genotypes\n",
    "        push!(genotypes_m,([allele1 allele2 yallele]))\n",
    "    end\n",
    "end\n",
    "                        \n",
    "#Load in model\n",
    "sbf, hbf, sβf, hβf, sbβf,sbm, hbm, sβm, hβm, sbβm, sXam, c, j, p, u, q, m = Sym(\"sbf hbf sβf hβf sbβf sbm hbm sβm hβm sbβm sXam c j p u q m\")\n",
    "\n",
    "#Read in genotypes from storage\n",
    "genotypes_f_string = readdlm(\"./YLEXS/YLEXS_genotypes_f.csv\", ',', String,header=false);\n",
    "genotypes_m_string = readdlm(\"./YLEXS/YLEXS_genotypes_m.csv\", ',', String,header=false);\n",
    "\n",
    "#Define dictionary for indexing \n",
    "index_dict_f = Dict()\n",
    "[index_dict_f[genotypes_f_string[i]] = i for i in 1:length(genotypes_f_string)]\n",
    "index_dict_f\n",
    "\n",
    "index_dict_m = Dict()\n",
    "[index_dict_m[genotypes_m_string[i]] = i for i in 1:length(genotypes_m_string)]\n",
    "index_dict_m\n",
    "\n",
    "#Read in and convert data back to IC_F\n",
    "flattened_ic_f = readdlm(\"./YLEXS/YLEXS_inheritance_f.csv\", ',', String,header=true)[1]\n",
    "flattened_ic_f = convert(Array{Any}, flattened_ic_f)\n",
    "flattened_ic_f[:,1] = [index_dict_f[i] for i in flattened_ic_f[:,1]]\n",
    "flattened_ic_f[:,2] = [index_dict_m[i] for i in flattened_ic_f[:,2]]\n",
    "flattened_ic_f[:,3:end] = eval.(Meta.parse.(flattened_ic_f[:,3:end]))\n",
    "ic_f = Array{Any}(undef,length(genotypes_f_string),length(genotypes_m_string),length(genotypes_f_string))\n",
    "for i in 1:length(flattened_ic_f[:,1])\n",
    "    mother,father = flattened_ic_f[i,1:2]\n",
    "    ic_f[mother,father,:] = flattened_ic_f[i,3:end]\n",
    "end\n",
    "ic_f = Sym.(ic_f);\n",
    "\n",
    "#Read in and convert data back to IC_M\n",
    "flattened_ic_m = readdlm(\"./YLEXS/YLEXS_inheritance_m.csv\", ',', String,header=true)[1]\n",
    "flattened_ic_m = convert(Array{Any}, flattened_ic_m)\n",
    "flattened_ic_m[:,1] = [index_dict_f[i] for i in flattened_ic_m[:,1]]\n",
    "flattened_ic_m[:,2] = [index_dict_m[i] for i in flattened_ic_m[:,2]]\n",
    "flattened_ic_m[:,3:end] = eval.(Meta.parse.(flattened_ic_m[:,3:end]))\n",
    "ic_m = Array{Any}(undef,length(genotypes_f_string),length(genotypes_m_string),length(genotypes_m_string))\n",
    "for i in 1:length(flattened_ic_m[:,1])\n",
    "    mother,father = flattened_ic_m[i,1:2]\n",
    "    ic_m[mother,father,:] = flattened_ic_m[i,3:end]\n",
    "end\n",
    "ic_m = Sym.(ic_m);\n",
    "\n",
    "#Read in fitness from storage\n",
    "fitness_f = readdlm(\"./YLEXS/YLEXS_fitness_f.csv\", ',', String,header=true)[1]\n",
    "fitness_f = convert(Array{Any}, fitness_f[:,2])\n",
    "fitness_f = eval.(Meta.parse.(fitness_f))\n",
    "fitness_f = Sym.(fitness_f)\n",
    "\n",
    "fitness_m = readdlm(\"./YLEXS/YLEXS_fitness_m.csv\", ',', String,header=true)[1]\n",
    "fitness_m = convert(Array{Any}, fitness_m[:,2])\n",
    "fitness_m = eval.(Meta.parse.(fitness_m))\n",
    "fitness_m = Sym.(fitness_m);"
   ]
  },
  {
   "cell_type": "markdown",
   "id": "8d6626f2",
   "metadata": {},
   "source": [
    "#### Identify release rate"
   ]
  },
  {
   "cell_type": "code",
   "execution_count": 101,
   "id": "9e05b7ff",
   "metadata": {},
   "outputs": [],
   "source": [
    "#OPtimal X-shredder param setup\n",
    "\n",
    "# Define parameters and save in dictionary (set values as you wish)\n",
    "pdict = Dict()\n",
    "pdict[sbf]=1.0\n",
    "pdict[hbf]=1.0\n",
    "pdict[sβf]=1.0\n",
    "pdict[hβf]=1.0\n",
    "pdict[sbβf]=1.0\n",
    "\n",
    "pdict[c]=0.0\n",
    "pdict[j]=0.0\n",
    "\n",
    "pdict[p]=0.0\n",
    "pdict[u]=0.0\n",
    "pdict[q]=0.0\n",
    "pdict[m] = 1.0\n",
    "pdict[sXam]=0.0\n",
    "\n",
    "Rm = 6\n",
    "Nf_eq = 1000.0\n",
    "#params = Initiate_baseline_parameters()\n",
    "params[\"OJ\"] = 1/10\n",
    "params[\"f\"] = (2*Rm)/params[\"OJ\"]\n",
    "params[\"α\"] = params[\"f\"]*Nf_eq/(Rm-1)\n",
    "pdict[\"fm\"]=0.0\n",
    "\n",
    "# Substitute symbols for numerical values: outputs are sex_ratio, fitness and inheritance\n",
    "subs_list = [(p,pdict[p]) for p in keys(pdict)];\n",
    "\n",
    "#Fitness\n",
    "fitness_f_vals = Array{Float64}(fitness_f.subs(subs_list))\n",
    "fitness_m_vals = Array{Float64}(fitness_m.subs(subs_list))\n",
    "\n",
    "#inheritance\n",
    "Nf = length(ic_f[1,1,:])\n",
    "Nm = length(ic_m[1,1,:])\n",
    "ic_vals = Array{Any,3}(nothing,Nf,Nm,Nf)\n",
    "for i in 1:Nf\n",
    "    ic_vals[i,:,:] = ic_f[i,:,:].subs(subs_list)\n",
    "end\n",
    "ic_f_vals = Array{Float64}(ic_vals);\n",
    "\n",
    "ic_vals = Array{Any,3}(nothing,Nf,Nm,Nm)\n",
    "for i in 1:Nf\n",
    "    ic_vals[i,:,:] = ic_m[i,:,:].subs(subs_list)\n",
    "end\n",
    "ic_m_vals = Array{Float64}(ic_vals);\n"
   ]
  },
  {
   "cell_type": "code",
   "execution_count": 102,
   "id": "ca89502d",
   "metadata": {},
   "outputs": [
    {
     "data": {
      "text/plain": [
       "2-element Vector{Any}:\n",
       " 0.3955000000000001\n",
       " 0.4021"
      ]
     },
     "execution_count": 102,
     "metadata": {},
     "output_type": "execute_result"
    }
   ],
   "source": [
    "#OPtimal X-shredder\n",
    "release_genotype=[\"aB\" \"aB\" \"Y\"]\n",
    "threshold = 0.05\n",
    "XS_rr = []\n",
    "for threshold in thresholds\n",
    "    rr = find_release_rate_required_2locus(release_genotype,\n",
    "                                    threshold,\n",
    "                                    ic_f_vals,\n",
    "                                    ic_m_vals,\n",
    "                                    fitness_f_vals,\n",
    "                                    fitness_m_vals,\n",
    "                                    params,\n",
    "                                    fitness_effect=\"a\")\n",
    "    push!(XS_rr,rr)\n",
    "end\n",
    "XS_rr"
   ]
  },
  {
   "cell_type": "code",
   "execution_count": 150,
   "id": "262b6eca",
   "metadata": {},
   "outputs": [],
   "source": [
    "#Experimental YLE+XS setup [With REC NHEJ]\n",
    "\n",
    "# Define parameters and save in dictionary (set values as you wish)\n",
    "pdict = Dict()\n",
    "pdict[sbf]=1.0\n",
    "pdict[hbf]=1.0\n",
    "pdict[sβf]=1.0\n",
    "pdict[hβf]=0.0 #recessive NHEJ mutations\n",
    "pdict[sbβf]=1.0\n",
    "\n",
    "pdict[c]=c_[1] #Experimental value\n",
    "pdict[j]=j_[1] #Experimental value\n",
    "\n",
    "pdict[p]=0.0\n",
    "pdict[u]=1.0\n",
    "pdict[q]=0.0\n",
    "pdict[m] = 0.9 #Experimental value\n",
    "pdict[sXam]=0.2 #Experimental value\n",
    "\n",
    "Rm = 6\n",
    "Nf_eq = 1000.0\n",
    "#params = Initiate_baseline_parameters()\n",
    "params[\"OJ\"] = 1/10\n",
    "params[\"f\"] = (2*Rm)/params[\"OJ\"]\n",
    "params[\"α\"] = params[\"f\"]*Nf_eq/(Rm-1)\n",
    "params[\"fm\"]=pdict[sXam] #Experimental value\n",
    "\n",
    "# Substitute symbols for numerical values: outputs are sex_ratio, fitness and inheritance\n",
    "subs_list = [(p,pdict[p]) for p in keys(pdict)];\n",
    "\n",
    "#Fitness\n",
    "fitness_f_vals = Array{Float64}(fitness_f.subs(subs_list))\n",
    "fitness_m_vals = Array{Float64}(fitness_m.subs(subs_list))\n",
    "\n",
    "#inheritance\n",
    "Nf = length(ic_f[1,1,:])\n",
    "Nm = length(ic_m[1,1,:])\n",
    "ic_vals = Array{Any,3}(nothing,Nf,Nm,Nf)\n",
    "for i in 1:Nf\n",
    "    ic_vals[i,:,:] = ic_f[i,:,:].subs(subs_list)\n",
    "end\n",
    "ic_f_vals = Array{Float64}(ic_vals);\n",
    "\n",
    "ic_vals = Array{Any,3}(nothing,Nf,Nm,Nm)\n",
    "for i in 1:Nf\n",
    "    ic_vals[i,:,:] = ic_m[i,:,:].subs(subs_list)\n",
    "end\n",
    "ic_m_vals = Array{Float64}(ic_vals);"
   ]
  },
  {
   "cell_type": "code",
   "execution_count": 151,
   "id": "dcc8da42",
   "metadata": {},
   "outputs": [
    {
     "data": {
      "text/plain": [
       "2-element Vector{Any}:\n",
       " 0.11380000000000003\n",
       " 0.12200000000000004"
      ]
     },
     "execution_count": 151,
     "metadata": {},
     "output_type": "execute_result"
    }
   ],
   "source": [
    "release_genotype=[\"Ab\" \"aB\" \"y\"]\n",
    "hetYLEXS_rr = []\n",
    "for threshold in thresholds\n",
    "    rr = find_release_rate_required_2locus(release_genotype,\n",
    "                                    threshold,\n",
    "                                    ic_f_vals,\n",
    "                                    ic_m_vals,\n",
    "                                    fitness_f_vals,\n",
    "                                    fitness_m_vals,\n",
    "                                    params,\n",
    "                                    fitness_effect=\"s\")\n",
    "    push!(hetYLEXS_rr,rr)\n",
    "end\n",
    "hetYLEXS_rr"
   ]
  },
  {
   "cell_type": "code",
   "execution_count": 152,
   "id": "9c2c51f7",
   "metadata": {},
   "outputs": [
    {
     "data": {
      "text/plain": [
       "2-element Vector{Any}:\n",
       " 0.08830000000000002\n",
       " 0.09450000000000001"
      ]
     },
     "execution_count": 152,
     "metadata": {},
     "output_type": "execute_result"
    }
   ],
   "source": [
    "release_genotype=[\"aB\" \"ab\" \"y\"]\n",
    "homYLEXS_rr = []\n",
    "for threshold in thresholds\n",
    "    rr = find_release_rate_required_2locus(release_genotype,\n",
    "                                    threshold,\n",
    "                                    ic_f_vals,\n",
    "                                    ic_m_vals,\n",
    "                                    fitness_f_vals,\n",
    "                                    fitness_m_vals,\n",
    "                                    params,\n",
    "                                    fitness_effect=\"s\")\n",
    "    push!(homYLEXS_rr,rr)\n",
    "end\n",
    "homYLEXS_rr"
   ]
  },
  {
   "cell_type": "code",
   "execution_count": 147,
   "id": "98db067f",
   "metadata": {},
   "outputs": [],
   "source": [
    "#Experimental YLE+XS setup [With Dom NHEJ]\n",
    "\n",
    "# Define parameters and save in dictionary (set values as you wish)\n",
    "pdict = Dict()\n",
    "pdict[sbf]=1.0\n",
    "pdict[hbf]=1.0\n",
    "pdict[sβf]=1.0\n",
    "pdict[hβf]=1.0 #recessive NHEJ mutations\n",
    "pdict[sbβf]=1.0\n",
    "\n",
    "pdict[c]=c_[1] #Experimental value\n",
    "pdict[j]=j_[1] #Experimental value\n",
    "\n",
    "pdict[p]=0.0\n",
    "pdict[u]=1.0\n",
    "pdict[q]=0.0\n",
    "pdict[m] = 0.9 #Experimental value\n",
    "pdict[sXam]=0.2 #Experimental value\n",
    "\n",
    "Rm = 6\n",
    "Nf_eq = 1000.0\n",
    "#params = Initiate_baseline_parameters()\n",
    "params=Dict()\n",
    "params[\"OJ\"] = 1/10\n",
    "params[\"f\"] = (2*Rm)/params[\"OJ\"]\n",
    "params[\"α\"] = params[\"f\"]*Nf_eq/(Rm-1)\n",
    "params[\"fm\"]=pdict[sXam] #Experimental value\n",
    "\n",
    "# Substitute symbols for numerical values: outputs are sex_ratio, fitness and inheritance\n",
    "subs_list = [(p,pdict[p]) for p in keys(pdict)];\n",
    "\n",
    "#Fitness\n",
    "fitness_f_vals = Array{Float64}(fitness_f.subs(subs_list))\n",
    "fitness_m_vals = Array{Float64}(fitness_m.subs(subs_list))\n",
    "\n",
    "#inheritance\n",
    "Nf = length(ic_f[1,1,:])\n",
    "Nm = length(ic_m[1,1,:])\n",
    "ic_vals = Array{Any,3}(nothing,Nf,Nm,Nf)\n",
    "for i in 1:Nf\n",
    "    ic_vals[i,:,:] = ic_f[i,:,:].subs(subs_list)\n",
    "end\n",
    "ic_f_vals = Array{Float64}(ic_vals);\n",
    "\n",
    "ic_vals = Array{Any,3}(nothing,Nf,Nm,Nm)\n",
    "for i in 1:Nf\n",
    "    ic_vals[i,:,:] = ic_m[i,:,:].subs(subs_list)\n",
    "end\n",
    "ic_m_vals = Array{Float64}(ic_vals);"
   ]
  },
  {
   "cell_type": "code",
   "execution_count": 148,
   "id": "206c20f8",
   "metadata": {
    "scrolled": true
   },
   "outputs": [
    {
     "data": {
      "text/plain": [
       "2-element Vector{Any}:\n",
       " 0.0189\n",
       " 0.021999999999999992"
      ]
     },
     "execution_count": 148,
     "metadata": {},
     "output_type": "execute_result"
    }
   ],
   "source": [
    "release_genotype=[\"Ab\" \"aB\" \"y\"]\n",
    "hetYLEXS_rr = []\n",
    "for threshold in thresholds\n",
    "    rr = find_release_rate_required_2locus(release_genotype,\n",
    "                                    threshold,\n",
    "                                    ic_f_vals,\n",
    "                                    ic_m_vals,\n",
    "                                    fitness_f_vals,\n",
    "                                    fitness_m_vals,\n",
    "                                    params,\n",
    "                                    fitness_effect=\"s\")\n",
    "    push!(hetYLEXS_rr,rr)\n",
    "end\n",
    "hetYLEXS_rr"
   ]
  },
  {
   "cell_type": "code",
   "execution_count": 149,
   "id": "c02ff42d",
   "metadata": {},
   "outputs": [
    {
     "data": {
      "text/plain": [
       "2-element Vector{Any}:\n",
       " 0.014100000000000001\n",
       " 0.0166"
      ]
     },
     "execution_count": 149,
     "metadata": {},
     "output_type": "execute_result"
    }
   ],
   "source": [
    "release_genotype=[\"aB\" \"ab\" \"y\"]\n",
    "homYLEXS_rr = []\n",
    "for threshold in thresholds\n",
    "    rr = find_release_rate_required_2locus(release_genotype,\n",
    "                                    threshold,\n",
    "                                    ic_f_vals,\n",
    "                                    ic_m_vals,\n",
    "                                    fitness_f_vals,\n",
    "                                    fitness_m_vals,\n",
    "                                    params,\n",
    "                                    fitness_effect=\"s\")\n",
    "    push!(homYLEXS_rr,rr)\n",
    "end\n",
    "homYLEXS_rr"
   ]
  },
  {
   "cell_type": "code",
   "execution_count": null,
   "id": "bfbc70ee",
   "metadata": {},
   "outputs": [],
   "source": []
  }
 ],
 "metadata": {
  "@webio": {
   "lastCommId": null,
   "lastKernelId": null
  },
  "kernelspec": {
   "display_name": "Julia 1.9.3",
   "language": "julia",
   "name": "julia-1.9"
  },
  "language_info": {
   "file_extension": ".jl",
   "mimetype": "application/julia",
   "name": "julia",
   "version": "1.9.3"
  }
 },
 "nbformat": 4,
 "nbformat_minor": 5
}
