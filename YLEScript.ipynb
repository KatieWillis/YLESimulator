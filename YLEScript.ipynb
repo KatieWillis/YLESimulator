{
 "cells": [
  {
   "cell_type": "markdown",
   "id": "4cfbba52",
   "metadata": {},
   "source": [
    "# YLE modelling script\n",
    "\n",
    "20-02-24\n",
    "\n",
    "Katie Willis \n",
    "\n",
    "Katie.willis@imperial.ac.uk\n",
    "\n",
    "___\n",
    "\n",
    "This file contains code required to generate all figures and values associated with the publication.\n",
    "\n"
   ]
  },
  {
   "cell_type": "markdown",
   "id": "d93a99db",
   "metadata": {
    "heading_collapsed": true
   },
   "source": [
    "## Setup"
   ]
  },
  {
   "cell_type": "code",
   "execution_count": 1,
   "id": "1252ae5d",
   "metadata": {
    "ExecuteTime": {
     "end_time": "2024-08-22T10:56:53.874000+01:00",
     "start_time": "2024-08-22T09:56:53.211Z"
    },
    "hidden": true,
    "scrolled": true
   },
   "outputs": [
    {
     "name": "stderr",
     "output_type": "stream",
     "text": [
      "\u001b[32m\u001b[1m  Activating\u001b[22m\u001b[39m project at `~/Library/CloudStorage/OneDrive-ImperialCollegeLondon/PhD work/Drive_modelling/Projects/YLE_Ignacio/GithubCode/Environment`\n"
     ]
    }
   ],
   "source": [
    "] activate ./Environment"
   ]
  },
  {
   "cell_type": "code",
   "execution_count": 2,
   "id": "acdfc619",
   "metadata": {
    "ExecuteTime": {
     "end_time": "2024-08-22T10:56:55.739000+01:00",
     "start_time": "2024-08-22T09:56:54.530Z"
    },
    "hidden": true
   },
   "outputs": [
    {
     "name": "stdout",
     "output_type": "stream",
     "text": [
      "\u001b[32m\u001b[1mStatus\u001b[22m\u001b[39m `~/Library/CloudStorage/OneDrive-ImperialCollegeLondon/PhD work/Drive_modelling/Projects/YLE_Ignacio/GithubCode/Environment/Project.toml`\n",
      "\u001b[32m⌃\u001b[39m \u001b[90m[336ed68f] \u001b[39mCSV v0.10.12\n",
      "  \u001b[90m[a93c6f00] \u001b[39mDataFrames v1.6.1\n",
      "  \u001b[90m[8bb1440f] \u001b[39mDelimitedFiles v1.9.1\n",
      "  \u001b[90m[31c24e10] \u001b[39mDistributions v0.25.109\n",
      "  \u001b[90m[e850a1a4] \u001b[39mGpABC v0.1.1\n",
      "\u001b[32m⌃\u001b[39m \u001b[90m[033835bb] \u001b[39mJLD2 v0.4.45\n",
      "\u001b[32m⌃\u001b[39m \u001b[90m[0db19996] \u001b[39mNBInclude v2.3.0\n",
      "\u001b[32m⌃\u001b[39m \u001b[90m[91a5bcdd] \u001b[39mPlots v1.39.0\n",
      "\u001b[32m⌃\u001b[39m \u001b[90m[d330b81b] \u001b[39mPyPlot v2.11.2\n",
      "\u001b[32m⌃\u001b[39m \u001b[90m[24249f21] \u001b[39mSymPy v2.0.1\n",
      "  \u001b[90m[8ba89e20] \u001b[39mDistributed\n",
      "  \u001b[90m[37e2e46d] \u001b[39mLinearAlgebra\n",
      "\u001b[36m\u001b[1mInfo\u001b[22m\u001b[39m Packages marked with \u001b[32m⌃\u001b[39m have new versions available and may be upgradable.\n"
     ]
    }
   ],
   "source": [
    "] status"
   ]
  },
  {
   "cell_type": "code",
   "execution_count": 3,
   "id": "004b720a",
   "metadata": {
    "ExecuteTime": {
     "end_time": "2024-08-22T10:57:13.145000+01:00",
     "start_time": "2024-08-22T09:56:55.727Z"
    },
    "hidden": true
   },
   "outputs": [],
   "source": [
    "using NBInclude\n",
    "@nbinclude(\"./Environment/Setup.ipynb\");\n",
    "@nbinclude(\"./YLEModel.ipynb\");"
   ]
  },
  {
   "cell_type": "markdown",
   "id": "4161341b",
   "metadata": {
    "heading_collapsed": true
   },
   "source": [
    "## Define variables"
   ]
  },
  {
   "cell_type": "code",
   "execution_count": 4,
   "id": "5cd04be6",
   "metadata": {
    "ExecuteTime": {
     "end_time": "2024-08-22T10:57:13.460000+01:00",
     "start_time": "2024-08-22T09:56:56.268Z"
    },
    "hidden": true
   },
   "outputs": [],
   "source": [
    "#Define all alleles and genotypes \n",
    "\n",
    "A_alleles = [\"A\",\"a\",\"α\"];\n",
    "#A = target site\n",
    "#a = edit 1\n",
    "#α = edit 2\n",
    "\n",
    "Y_genotypes = [\"Y\",\"y\"];\n",
    "#Y = WT\n",
    "#y = construct\n",
    "\n",
    "#Define all allele and genotypes in females\n",
    "falleles = A_alleles\n",
    "genotypes_f = []\n",
    "for i in 1:length(falleles)\n",
    "    allele1 = falleles[i]\n",
    "    for j in i:length(falleles)\n",
    "        allele2 = falleles[j]\n",
    "        push!(genotypes_f,([allele1 allele2]))\n",
    "    end\n",
    "end;\n",
    "        \n",
    "#Define all allele combos and genotypes in males\n",
    "#For males there are two options for Y, therefore double the number of alleles and genotypes\n",
    "malleles = []\n",
    "for A in A_alleles\n",
    "    for Y in Y_genotypes\n",
    "        push!(malleles,(A, Y))\n",
    "    end\n",
    "end\n",
    "genotypes_m = []\n",
    "for i in genotypes_f\n",
    "    allele1 = i[1]\n",
    "    allele2 = i[2]\n",
    "    for yallele in Y_genotypes\n",
    "        push!(genotypes_m,([allele1 allele2 yallele]))\n",
    "    end\n",
    "end"
   ]
  },
  {
   "cell_type": "code",
   "execution_count": 5,
   "id": "8cad291f",
   "metadata": {
    "ExecuteTime": {
     "end_time": "2024-08-22T10:57:14.409000+01:00",
     "start_time": "2024-08-22T09:56:56.606Z"
    },
    "hidden": true
   },
   "outputs": [
    {
     "data": {
      "text/plain": [
       "6-element Vector{Any}:\n",
       " [\"A\" \"A\"]\n",
       " [\"A\" \"a\"]\n",
       " [\"A\" \"α\"]\n",
       " [\"a\" \"a\"]\n",
       " [\"a\" \"α\"]\n",
       " [\"α\" \"α\"]"
      ]
     },
     "execution_count": 5,
     "metadata": {},
     "output_type": "execute_result"
    }
   ],
   "source": [
    "genotypes_f"
   ]
  },
  {
   "cell_type": "code",
   "execution_count": 6,
   "id": "01ded6cb",
   "metadata": {
    "ExecuteTime": {
     "end_time": "2024-08-22T10:57:14.414000+01:00",
     "start_time": "2024-08-22T09:56:56.877Z"
    },
    "hidden": true
   },
   "outputs": [
    {
     "data": {
      "text/plain": [
       "12-element Vector{Any}:\n",
       " [\"A\" \"A\" \"Y\"]\n",
       " [\"A\" \"A\" \"y\"]\n",
       " [\"A\" \"a\" \"Y\"]\n",
       " [\"A\" \"a\" \"y\"]\n",
       " [\"A\" \"α\" \"Y\"]\n",
       " [\"A\" \"α\" \"y\"]\n",
       " [\"a\" \"a\" \"Y\"]\n",
       " [\"a\" \"a\" \"y\"]\n",
       " [\"a\" \"α\" \"Y\"]\n",
       " [\"a\" \"α\" \"y\"]\n",
       " [\"α\" \"α\" \"Y\"]\n",
       " [\"α\" \"α\" \"y\"]"
      ]
     },
     "execution_count": 6,
     "metadata": {},
     "output_type": "execute_result"
    }
   ],
   "source": [
    "genotypes_m"
   ]
  },
  {
   "cell_type": "code",
   "execution_count": 7,
   "id": "ea623c56",
   "metadata": {
    "ExecuteTime": {
     "end_time": "2024-08-22T10:57:15.806000+01:00",
     "start_time": "2024-08-22T09:56:57.104Z"
    },
    "hidden": true
   },
   "outputs": [],
   "source": [
    "#Define symbols (don't change)\n",
    "saf, haf, sαf, hαf, saαf, sam, ham, sαm, hαm, saαm, c, j, p, u, q, sy = Sym(\"saf haf sαf hαf saαf sam ham sαm hαm saαm c j p u q sy\")\n",
    "\n",
    "#Read in genotypes from storage\n",
    "genotypes_f_string = readdlm(\"./YLE/YLE_genotypes_f.csv\", ',', String,header=false);\n",
    "genotypes_m_string = readdlm(\"./YLE/YLE_genotypes_m.csv\", ',', String,header=false);\n",
    "\n",
    "#Define dictionary for indexing \n",
    "index_dict_f = Dict()\n",
    "[index_dict_f[genotypes_f_string[i]] = i for i in 1:length(genotypes_f_string)]\n",
    "index_dict_f\n",
    "\n",
    "index_dict_m = Dict()\n",
    "[index_dict_m[genotypes_m_string[i]] = i for i in 1:length(genotypes_m_string)]\n",
    "index_dict_m\n",
    "\n",
    "#Read in and convert data back to IC_F\n",
    "flattened_ic_f = readdlm(\"./YLE/YLE_inheritance_f.csv\", ',', String,header=true)[1]\n",
    "flattened_ic_f = convert(Array{Any}, flattened_ic_f)\n",
    "flattened_ic_f[:,1] = [index_dict_f[i] for i in flattened_ic_f[:,1]]\n",
    "flattened_ic_f[:,2] = [index_dict_m[i] for i in flattened_ic_f[:,2]]\n",
    "flattened_ic_f[:,3:end] = eval.(Meta.parse.(flattened_ic_f[:,3:end]))\n",
    "ic_f = Array{Any}(undef,length(genotypes_f_string),length(genotypes_m_string),length(genotypes_f_string))\n",
    "for i in 1:length(flattened_ic_f[:,1])\n",
    "    mother,father = flattened_ic_f[i,1:2]\n",
    "    ic_f[mother,father,:] = flattened_ic_f[i,3:end]\n",
    "end\n",
    "ic_f = Sym.(ic_f);\n",
    "\n",
    "#Read in and convert data back to IC_M\n",
    "flattened_ic_m = readdlm(\"./YLE/YLE_inheritance_m.csv\", ',', String,header=true)[1]\n",
    "flattened_ic_m = convert(Array{Any}, flattened_ic_m)\n",
    "flattened_ic_m[:,1] = [index_dict_f[i] for i in flattened_ic_m[:,1]]\n",
    "flattened_ic_m[:,2] = [index_dict_m[i] for i in flattened_ic_m[:,2]]\n",
    "flattened_ic_m[:,3:end] = eval.(Meta.parse.(flattened_ic_m[:,3:end]))\n",
    "ic_m = Array{Any}(undef,length(genotypes_f_string),length(genotypes_m_string),length(genotypes_m_string))\n",
    "for i in 1:length(flattened_ic_m[:,1])\n",
    "    mother,father = flattened_ic_m[i,1:2]\n",
    "    ic_m[mother,father,:] = flattened_ic_m[i,3:end]\n",
    "end\n",
    "ic_m = Sym.(ic_m);\n",
    "\n",
    "#Read in fitness from storage\n",
    "fitness_f = readdlm(\"./YLE/YLE_fitness_f.csv\", ',', String,header=true)[1]\n",
    "fitness_f = convert(Array{Any}, fitness_f[:,2])\n",
    "fitness_f = eval.(Meta.parse.(fitness_f))\n",
    "fitness_f = Sym.(fitness_f)\n",
    "\n",
    "fitness_m = readdlm(\"./YLE/YLE_fitness_m.csv\", ',', String,header=true)[1]\n",
    "fitness_m = convert(Array{Any}, fitness_m[:,2])\n",
    "fitness_m = eval.(Meta.parse.(fitness_m))\n",
    "fitness_m = Sym.(fitness_m);"
   ]
  },
  {
   "cell_type": "markdown",
   "id": "ba81978f",
   "metadata": {
    "heading_collapsed": true
   },
   "source": [
    "## Example time series simulation"
   ]
  },
  {
   "cell_type": "code",
   "execution_count": 8,
   "id": "ffcea2c6",
   "metadata": {
    "ExecuteTime": {
     "end_time": "2024-08-22T10:57:15.883000+01:00",
     "start_time": "2024-08-22T09:56:59.714Z"
    },
    "hidden": true
   },
   "outputs": [],
   "source": [
    "# Define inheritance and fitness params\n",
    "pdict = Dict()\n",
    "pdict[saf]=1.0\n",
    "pdict[haf]=1.0\n",
    "pdict[sαf]=1.0\n",
    "pdict[hαf]=0.0\n",
    "pdict[saαf]=1.0\n",
    "pdict[sam]=0.0\n",
    "pdict[ham]=0.0\n",
    "pdict[sαm]=0.0\n",
    "pdict[hαm]=0.0\n",
    "pdict[saαm]=0.0\n",
    "\n",
    "pdict[c]=1.0\n",
    "pdict[j]=0.0\n",
    "pdict[p]=0.0\n",
    "pdict[u]=1.0\n",
    "pdict[q]=1.0\n",
    "pdict[sy]=0.0\n",
    "\n",
    "# Save params\n",
    "subs_list = [(p,pdict[p]) for p in keys(pdict)];"
   ]
  },
  {
   "cell_type": "code",
   "execution_count": 141,
   "id": "90663b03",
   "metadata": {
    "ExecuteTime": {
     "end_time": "2024-08-21T17:49:50.805000+01:00",
     "start_time": "2024-08-21T16:49:50.512Z"
    },
    "hidden": true
   },
   "outputs": [],
   "source": [
    "#Define release scenario\n",
    "t=10\n",
    "release_freq = 1.0\n",
    "release_genotype=[\"A\" \"a\" \"y\"]\n",
    "\n",
    "#Simulate\n",
    "out = Simulate_single_release_example(subs_list,t,release_freq,release_genotype);\n"
   ]
  },
  {
   "cell_type": "code",
   "execution_count": 142,
   "id": "8d6d15fa",
   "metadata": {
    "ExecuteTime": {
     "end_time": "2024-08-21T17:49:51.322000+01:00",
     "start_time": "2024-08-21T16:49:51.223Z"
    },
    "hidden": true
   },
   "outputs": [
    {
     "data": {
      "image/png": "[encoded data removed]",
      "text/plain": [
       "PyPlot.Figure(PyObject <Figure size 300x200 with 1 Axes>)"
      ]
     },
     "metadata": {},
     "output_type": "display_data"
    }
   ],
   "source": [
    "#plot\n",
    "f1 = PyPlot.figure(figsize=(3,2))\n",
    "PyPlot.plot(0:t,out[\"relative_number_females\"].adult,c=\"black\",\"-\",label=\"Relative no. females\")\n",
    "PyPlot.plot(0:t,out[\"allelefreq_zygote\"].a,c=\"#c00000\",label=\"edit\")\n",
    "PyPlot.plot(0:t,out[\"yfreq_zygote\"].y,c=\"#00b0f0\",\"-\",label=\"YLE\")\n",
    "PyPlot.ylim(0,1.02)\n",
    "PyPlot.xlim(0,t)\n",
    "PyPlot.legend(bbox_to_anchor=(1.0, 1.0,))\n",
    "\n",
    "PyPlot.show()\n"
   ]
  },
  {
   "cell_type": "markdown",
   "id": "3d8a3063",
   "metadata": {
    "heading_collapsed": true
   },
   "source": [
    "## Figure 1"
   ]
  },
  {
   "cell_type": "code",
   "execution_count": 143,
   "id": "2aee6b5f",
   "metadata": {
    "ExecuteTime": {
     "end_time": "2024-08-21T17:49:52.788000+01:00",
     "start_time": "2024-08-21T16:49:52.490Z"
    },
    "code_folding": [
     0
    ],
    "hidden": true
   },
   "outputs": [],
   "source": [
    "#SIT\n",
    "pdict = Dict()\n",
    "\n",
    "pdict[saf]=1.0\n",
    "pdict[haf]=1.0\n",
    "pdict[sαf]=1.0\n",
    "pdict[hαf]=1.0\n",
    "pdict[saαf]=1.0\n",
    "\n",
    "pdict[sam]=1.0\n",
    "pdict[ham]=1.0\n",
    "pdict[sαm]=1.0\n",
    "pdict[hαm]=1.0\n",
    "pdict[saαm]=1.0\n",
    "\n",
    "pdict[c]=0.0\n",
    "pdict[j]=0.0\n",
    "pdict[p]=0.0\n",
    "pdict[u]=0.0\n",
    "pdict[q]=0.0\n",
    "\n",
    "pdict[sy]=0.0\n",
    "\n",
    "SIT_subs_pdict = pdict\n",
    "SIT_subs_list = [(p,pdict[p]) for p in keys(pdict)];\n",
    "\n",
    "\n",
    "#Define release scenario\n",
    "t=15\n",
    "release_freq = 1.0\n",
    "release_genotype=[\"a\" \"a\" \"Y\"]\n",
    "fitness_effect = \"b\"\n",
    "\n",
    "#Simulate\n",
    "SIT_out = Simulate_single_release_example(SIT_subs_list,t,release_freq,release_genotype,fitness_effect=fitness_effect);\n"
   ]
  },
  {
   "cell_type": "code",
   "execution_count": 144,
   "id": "b42eec44",
   "metadata": {
    "ExecuteTime": {
     "end_time": "2024-08-21T17:49:53.034000+01:00",
     "start_time": "2024-08-21T16:49:52.669Z"
    },
    "code_folding": [
     0
    ],
    "hidden": true
   },
   "outputs": [],
   "source": [
    "#fs-RIDL\n",
    "\n",
    "pdict = Dict()\n",
    "\n",
    "pdict[saf]=1.0\n",
    "pdict[haf]=1.0\n",
    "pdict[sαf]=1.0\n",
    "pdict[hαf]=1.0\n",
    "pdict[saαf]=1.0\n",
    "\n",
    "pdict[sam]=0.0\n",
    "pdict[ham]=0.0\n",
    "pdict[sαm]=0.0\n",
    "pdict[hαm]=0.0\n",
    "pdict[saαm]=0.0\n",
    "\n",
    "pdict[c]=0.0\n",
    "pdict[j]=0.0\n",
    "pdict[p]=0.0\n",
    "pdict[u]=0.0\n",
    "pdict[q]=0.0\n",
    "\n",
    "pdict[sy]=0.0\n",
    "\n",
    "fsRIDL_subs_pdict = pdict\n",
    "fsRIDL_subs_list = [(p,pdict[p]) for p in keys(pdict)];\n",
    "\n",
    "#Define release scenario\n",
    "t=15\n",
    "release_freq = 1.0\n",
    "release_genotype=[\"a\" \"a\" \"Y\"]\n",
    "fitness_effect = \"a\"\n",
    "\n",
    "#Simulate\n",
    "fsRIDL_out = Simulate_single_release_example(fsRIDL_subs_list,t,release_freq,release_genotype,fitness_effect=fitness_effect);\n"
   ]
  },
  {
   "cell_type": "code",
   "execution_count": 145,
   "id": "9bcd2c12",
   "metadata": {
    "ExecuteTime": {
     "end_time": "2024-08-21T17:49:53.287000+01:00",
     "start_time": "2024-08-21T16:49:52.857Z"
    },
    "code_folding": [
     0
    ],
    "hidden": true
   },
   "outputs": [],
   "source": [
    "#YLE\n",
    "\n",
    "pdict = Dict()\n",
    "\n",
    "pdict[saf]=1.0\n",
    "pdict[haf]=1.0\n",
    "pdict[sαf]=1.0\n",
    "pdict[hαf]=1.0\n",
    "pdict[saαf]=1.0\n",
    "\n",
    "pdict[sam]=0.0\n",
    "pdict[ham]=0.0\n",
    "pdict[sαm]=0.0\n",
    "pdict[hαm]=0.0\n",
    "pdict[saαm]=0.0\n",
    "\n",
    "pdict[c]=1.0\n",
    "pdict[j]=0.0\n",
    "pdict[p]=0.0\n",
    "pdict[u]=1.0\n",
    "pdict[q]=0.0\n",
    "\n",
    "pdict[sy]=0.0\n",
    "\n",
    "YLE_subs_pdict = pdict\n",
    "YLE_subs_list = [(p,pdict[p]) for p in keys(pdict)];\n",
    "\n",
    "#Define release scenario\n",
    "t=15\n",
    "release_freq = 1.0\n",
    "release_genotype=[\"a\" \"a\" \"y\"]\n",
    "fitness_effect = \"a\"\n",
    "\n",
    "\n",
    "#Simulate\n",
    "YLE_out = Simulate_single_release_example(YLE_subs_list,t,release_freq,release_genotype,fitness_effect=fitness_effect);\n"
   ]
  },
  {
   "cell_type": "code",
   "execution_count": 146,
   "id": "d3ca386d",
   "metadata": {
    "ExecuteTime": {
     "end_time": "2024-08-21T17:49:53.333000+01:00",
     "start_time": "2024-08-21T16:49:53.069Z"
    },
    "code_folding": [],
    "hidden": true
   },
   "outputs": [
    {
     "data": {
      "image/png": "[encoded data removed]",
      "text/plain": [
       "PyPlot.Figure(PyObject <Figure size 300x200 with 1 Axes>)"
      ]
     },
     "metadata": {},
     "output_type": "display_data"
    }
   ],
   "source": [
    "#Plot allele frequencies\n",
    "f1 = PyPlot.figure(figsize=(3,2))\n",
    "PyPlot.plot(0:t,SIT_out[\"allelefreq_reproadult_male\"].a,c=\"#f58b2f\",\"-\",label=\"SIT\")\n",
    "PyPlot.plot(0:t,fsRIDL_out[\"allelefreq_reproadult_male\"].a,c=\"#c00000\",\"-\",label=\"fsRIDL\")\n",
    "PyPlot.plot(0:t,YLE_out[\"yfreq_reproadult\"].y,c=\"#00b0f0\",\"-\",label=\"YLE\")\n",
    "\n",
    "PyPlot.ylim(0,1.02)\n",
    "PyPlot.xlim(0,t)\n",
    "PyPlot.legend(bbox_to_anchor=(1.0, 1.0,))\n",
    "\n",
    "PyPlot.show()\n"
   ]
  },
  {
   "cell_type": "code",
   "execution_count": 147,
   "id": "bfc3178b",
   "metadata": {
    "ExecuteTime": {
     "end_time": "2024-08-21T17:49:54.318000+01:00",
     "start_time": "2024-08-21T16:49:54.243Z"
    },
    "hidden": true
   },
   "outputs": [
    {
     "data": {
      "image/png": "[encoded data removed]",
      "text/plain": [
       "PyPlot.Figure(PyObject <Figure size 300x200 with 1 Axes>)"
      ]
     },
     "metadata": {},
     "output_type": "display_data"
    }
   ],
   "source": [
    "#Plot relative no. females\n",
    "f1 = PyPlot.figure(figsize=(3,2))\n",
    "PyPlot.plot(0:t,YLE_out[\"relative_number_females\"].adult,c=\"#00b0f0\",\"-\",label=\"YLE\")\n",
    "PyPlot.plot(0:t,SIT_out[\"relative_number_females\"].adult,c=\"#f58b2f\",\"-\",label=\"SIT\")\n",
    "PyPlot.plot(0:t,fsRIDL_out[\"relative_number_females\"].adult,c=\"#c00000\",\"-\",label=\"fsRIDL\")\n",
    "\n",
    "PyPlot.ylim(0,1.02)\n",
    "PyPlot.xlim(0,t)\n",
    "\n",
    "PyPlot.show()\n"
   ]
  },
  {
   "cell_type": "markdown",
   "id": "bc96230f",
   "metadata": {
    "heading_collapsed": true
   },
   "source": [
    "## Figure 5 - Sensitivity analysis using experimental data as baseline"
   ]
  },
  {
   "cell_type": "code",
   "execution_count": 82,
   "id": "a477d0fa",
   "metadata": {
    "ExecuteTime": {
     "end_time": "2024-08-21T17:29:08.104000+01:00",
     "start_time": "2024-08-21T16:29:08.093Z"
    },
    "hidden": true
   },
   "outputs": [
    {
     "data": {
      "text/plain": [
       "2-element Vector{Float64}:\n",
       " 0.05\n",
       " 0.01"
      ]
     },
     "execution_count": 82,
     "metadata": {},
     "output_type": "execute_result"
    }
   ],
   "source": [
    "n_releases = 36\n",
    "t=n_releases\n",
    "#Set a range of intrinsic rates of increase\n",
    "Rm_vec = [2,6,12];\n",
    "thresholds = [0.05,0.01]"
   ]
  },
  {
   "cell_type": "code",
   "execution_count": 83,
   "id": "d5abd3c4",
   "metadata": {
    "ExecuteTime": {
     "end_time": "2024-08-21T17:29:08.306000+01:00",
     "start_time": "2024-08-21T16:29:08.300Z"
    },
    "hidden": true
   },
   "outputs": [
    {
     "data": {
      "text/plain": [
       "1"
      ]
     },
     "execution_count": 83,
     "metadata": {},
     "output_type": "execute_result"
    }
   ],
   "source": [
    "#Perform the sensitivity analysis for a goal of 95% suppression\n",
    "threshold = 0.05\n",
    "\n",
    "#Define colours for plot lines at different Rms\n",
    "cols = [\"#f3bf02\",\"#f58b2f\",\"#ff5177\"]\n",
    "set=1"
   ]
  },
  {
   "cell_type": "markdown",
   "id": "eaeef0ce",
   "metadata": {
    "heading_collapsed": true,
    "hidden": true
   },
   "source": [
    "#### Calculation of parameters from experimental data"
   ]
  },
  {
   "cell_type": "code",
   "execution_count": 84,
   "id": "0aec2297",
   "metadata": {
    "ExecuteTime": {
     "end_time": "2024-08-21T17:29:08.812000+01:00",
     "start_time": "2024-08-21T16:29:08.718Z"
    },
    "code_folding": [],
    "hidden": true
   },
   "outputs": [
    {
     "data": {
      "text/latex": [
       "$\\left[\\begin{smallmatrix}0.0430107526881721\\end{smallmatrix}\\right]$"
      ],
      "text/plain": [
       "1-element Vector{Sym{PyCall.PyObject}}:\n",
       " 0.0430107526881721"
      ]
     },
     "execution_count": 84,
     "metadata": {},
     "output_type": "execute_result"
    }
   ],
   "source": [
    "# Converting the proportion of offspring carrying the construct to cleavage and joining rates \n",
    "D, E, U = symbols(\"d e u\");\n",
    "\n",
    "#d = transmission rate - proportion of offspring carrying construct from a het x WT cross\n",
    "#e = probability of cleavage and homing. e = 2(d-0.5)\n",
    "#u = proportion of non-homed alleles which are R\n",
    "\n",
    "non_homed = 1-E #probability of not homing\n",
    "WT = non_homed*(1-U) #probability of being WT\n",
    "NHEJ = non_homed*U #probability of being NHEJ\n",
    "\n",
    "# c = probability of cleavage = homing + NHEJ\n",
    "C = E+NHEJ\n",
    "\n",
    "# j = probability of joining given cleavage\n",
    "J= simplify(NHEJ/C)\n",
    "\n",
    "#Experimental data\n",
    "d_ = [0.945]\n",
    "e_ = (d_.-0.5).*2\n",
    "\n",
    "#Proportion of all alleles which are neither WT nor the released mutation\n",
    "Altmut = 0.02\n",
    "#Proportion of all non-homed alleles which are NHEJ products\n",
    "u_ = Altmut./(1 .-d_)\n",
    "\n",
    "c_ = [subs(C,(E,e_[i]),(U,u_[i])) for i in 1:length(e_)]\n",
    "j_ = [subs(J,(E,e_[i]),(U,u_[i])) for i in 1:length(e_)]"
   ]
  },
  {
   "cell_type": "code",
   "execution_count": 85,
   "id": "9b6489b9",
   "metadata": {
    "ExecuteTime": {
     "end_time": "2024-08-21T17:29:08.994000+01:00",
     "start_time": "2024-08-21T16:29:08.989Z"
    },
    "hidden": true
   },
   "outputs": [
    {
     "data": {
      "text/latex": [
       "$\\left[\\begin{smallmatrix}0.93\\end{smallmatrix}\\right]$"
      ],
      "text/plain": [
       "1-element Vector{Sym{PyCall.PyObject}}:\n",
       " 0.930000000000000"
      ]
     },
     "execution_count": 85,
     "metadata": {},
     "output_type": "execute_result"
    }
   ],
   "source": [
    "c_"
   ]
  },
  {
   "cell_type": "code",
   "execution_count": 86,
   "id": "12c0745e",
   "metadata": {
    "ExecuteTime": {
     "end_time": "2024-08-21T17:29:09.882000+01:00",
     "start_time": "2024-08-21T16:29:09.872Z"
    },
    "hidden": true,
    "scrolled": true
   },
   "outputs": [
    {
     "data": {
      "text/latex": [
       "$\\left[\\begin{smallmatrix}0.0430107526881721\\end{smallmatrix}\\right]$"
      ],
      "text/plain": [
       "1-element Vector{Sym{PyCall.PyObject}}:\n",
       " 0.0430107526881721"
      ]
     },
     "execution_count": 86,
     "metadata": {},
     "output_type": "execute_result"
    }
   ],
   "source": [
    "j_"
   ]
  },
  {
   "cell_type": "markdown",
   "id": "d105d080",
   "metadata": {
    "heading_collapsed": true,
    "hidden": true
   },
   "source": [
    "#### Calculation of release rate required for experimental case"
   ]
  },
  {
   "cell_type": "code",
   "execution_count": 87,
   "id": "d0a5c992",
   "metadata": {
    "ExecuteTime": {
     "end_time": "2024-08-21T17:29:13.605000+01:00",
     "start_time": "2024-08-21T16:29:10.919Z"
    },
    "hidden": true
   },
   "outputs": [
    {
     "data": {
      "text/plain": [
       "2×3 Matrix{Float64}:\n",
       " 0.0623  0.178   0.4149\n",
       " 0.064   0.1887  0.4704"
      ]
     },
     "execution_count": 87,
     "metadata": {},
     "output_type": "execute_result"
    }
   ],
   "source": [
    "#Release rates at baseline for 99% and \n",
    "YLEdsx_rr_rm = Array{Float64}(undef,2,3)\n",
    "y=0\n",
    "for Rm in [2,6,12]\n",
    "    y=y+1\n",
    "    x=0\n",
    "    for threshold in thresholds\n",
    "        x=x+1\n",
    "        rr = find_release_rate_required(\n",
    "                        n_releases,\n",
    "                        0.0,\n",
    "                        threshold,\n",
    "                        YLE_subs_pdict;\n",
    "                        t=n_releases,\n",
    "                        release_genotype=[\"A\" \"a\" \"y\"],\n",
    "                        fitness_effect = \"a\",\n",
    "                        param_label=[c,j,p,q,hαf,sy],\n",
    "                        param_mod=[c_[1],j_[1],0.0,0.0,0.0,0.21],\n",
    "                        Rm=Rm)\n",
    "        \n",
    "        YLEdsx_rr_rm[x,y]=rr\n",
    "    end\n",
    "end\n",
    "\n",
    "YLEdsx_rr_rm"
   ]
  },
  {
   "cell_type": "markdown",
   "id": "24a86dbf",
   "metadata": {
    "heading_collapsed": true,
    "hidden": true
   },
   "source": [
    "#### Cleavage in hets "
   ]
  },
  {
   "cell_type": "code",
   "execution_count": 88,
   "id": "d198bbe9",
   "metadata": {
    "ExecuteTime": {
     "end_time": "2024-08-21T17:31:59.137000+01:00",
     "start_time": "2024-08-21T16:29:14.553Z"
    },
    "hidden": true
   },
   "outputs": [],
   "source": [
    "#Cleavage in hets \n",
    "param_mod_list = collect(0.0:0.01:1.0)\n",
    "param_label=[hαf,c,j,sy]\n",
    "rr_output = Array{Float64}(undef,length(param_mod_list),length(Rm_vec))\n",
    "\n",
    "y = 0\n",
    "for Rm in Rm_vec\n",
    "    y = y+1\n",
    "    x = 0\n",
    "    for param_mod in param_mod_list\n",
    "        x = x + 1\n",
    "        rr = find_release_rate_required(\n",
    "            n_releases,\n",
    "            0.0,\n",
    "            threshold,\n",
    "            YLE_subs_pdict;\n",
    "            t=n_releases,\n",
    "            release_genotype=[\"A\" \"a\" \"y\"],\n",
    "            fitness_effect = \"a\",\n",
    "            param_mod=[0.0,param_mod,j_[set],0.22],\n",
    "            param_label=param_label,\n",
    "            Rm = Rm)\n",
    "\n",
    "        rr_output[x,y] = rr\n",
    "    end\n",
    "end\n"
   ]
  },
  {
   "cell_type": "code",
   "execution_count": 89,
   "id": "37e5b171",
   "metadata": {
    "ExecuteTime": {
     "end_time": "2024-08-21T17:32:00.545000+01:00",
     "start_time": "2024-08-21T16:29:14.730Z"
    },
    "hidden": true
   },
   "outputs": [
    {
     "name": "stderr",
     "output_type": "stream",
     "text": [
      "sys:1: UserWarning: FigureCanvasAgg is non-interactive, and thus cannot be shown\n"
     ]
    },
    {
     "data": {
      "image/png": "[encoded data removed]",
      "text/plain": [
       "PyPlot.Figure(PyObject <Figure size 300x250 with 1 Axes>)"
      ]
     },
     "metadata": {},
     "output_type": "display_data"
    }
   ],
   "source": [
    "#plot\n",
    "f1 = PyPlot.figure(figsize=(3,2.5))\n",
    "for i in 1:3\n",
    "    PyPlot.plot(param_mod_list,rr_output[:,i],cols[i])\n",
    "    PyPlot.plot(Float64(c_[set]),YLEdsx_rr_rm[1,i],\"o\",color = cols[i])\n",
    "end\n",
    "\n",
    "PyPlot.xlim(0,maximum(param_mod_list))\n",
    "PyPlot.yscale(\"log\")\n",
    "PyPlot.ylim(0.018,2)\n",
    "PyPlot.yticks([0.01,0.03,0.1,0.3,1],[0.01,0.03,0.1,0.3,1])\n",
    "\n",
    "PyPlot.ylabel(\"Release rate required\")\n",
    "PyPlot.xlabel(\"Cleavage in hets (c)\")\n",
    " \n",
    "PyPlot.show()\n",
    "PyPlot.savefig(\"../figures/SensitivityAnalysis_c_withcost.pdf\",bbox_inches = \"tight\")"
   ]
  },
  {
   "cell_type": "markdown",
   "id": "2efb0fe1",
   "metadata": {
    "heading_collapsed": true,
    "hidden": true
   },
   "source": [
    "#### NHEJ in hets "
   ]
  },
  {
   "cell_type": "code",
   "execution_count": 90,
   "id": "4c27297a",
   "metadata": {
    "ExecuteTime": {
     "end_time": "2024-08-21T17:34:31.597000+01:00",
     "start_time": "2024-08-21T16:29:15.459Z"
    },
    "hidden": true
   },
   "outputs": [],
   "source": [
    "#NHEJ in hets\n",
    "param_mod_list = collect(0.0:0.01:1.0)\n",
    "param_label = [hαf,c,j,sy]\n",
    "rr_output = Array{Float64}(undef,length(param_mod_list),length(Rm_vec))\n",
    "\n",
    "y = 0\n",
    "for Rm in Rm_vec\n",
    "    y = y+1\n",
    "    x = 0\n",
    "    for param_mod in param_mod_list\n",
    "        x = x + 1\n",
    "        rr = find_release_rate_required(\n",
    "            n_releases,\n",
    "            0.0,\n",
    "            threshold,\n",
    "            YLE_subs_pdict;\n",
    "            t=n_releases,\n",
    "            release_genotype=[\"A\" \"a\" \"y\"],\n",
    "            fitness_effect = \"a\",\n",
    "            param_mod=[0.0,c_[set],param_mod,0.22],\n",
    "            param_label=param_label,\n",
    "            Rm = Rm)\n",
    "\n",
    "        rr_output[x,y] = rr\n",
    "    end\n",
    "end\n"
   ]
  },
  {
   "cell_type": "code",
   "execution_count": 91,
   "id": "5cacef72",
   "metadata": {
    "ExecuteTime": {
     "end_time": "2024-08-21T17:34:31.794000+01:00",
     "start_time": "2024-08-21T16:29:15.675Z"
    },
    "hidden": true
   },
   "outputs": [
    {
     "name": "stderr",
     "output_type": "stream",
     "text": [
      "sys:1: UserWarning: FigureCanvasAgg is non-interactive, and thus cannot be shown\n"
     ]
    },
    {
     "data": {
      "image/png": "[encoded data removed]",
      "text/plain": [
       "PyPlot.Figure(PyObject <Figure size 300x250 with 1 Axes>)"
      ]
     },
     "metadata": {},
     "output_type": "display_data"
    }
   ],
   "source": [
    "#plot\n",
    "f1 = PyPlot.figure(figsize=(3,2.5))\n",
    "for i in 1:3\n",
    "    PyPlot.plot(param_mod_list,rr_output[:,i],cols[i])\n",
    "    PyPlot.plot(Float64(j_[set]),YLEdsx_rr_rm[1,i],\"o\",color = cols[i])\n",
    "end\n",
    "\n",
    "PyPlot.xlim(0,maximum(param_mod_list))\n",
    "PyPlot.yscale(\"log\")\n",
    "PyPlot.ylim(0.018,2)\n",
    "PyPlot.yticks([0.01,0.03,0.1,0.3,1],[0.01,0.03,0.1,0.3,1])\n",
    "\n",
    "PyPlot.ylabel(\"Release rate required\")\n",
    "PyPlot.xlabel(\"NHEJ in hets (j)\")\n",
    " \n",
    "PyPlot.show()\n",
    "PyPlot.savefig(\"../figures/SensitivityAnalysis_j_withcost.pdf\",bbox_inches = \"tight\")"
   ]
  },
  {
   "cell_type": "markdown",
   "id": "7073ab3b",
   "metadata": {
    "heading_collapsed": true,
    "hidden": true
   },
   "source": [
    "#### Mutation rate in WT"
   ]
  },
  {
   "cell_type": "code",
   "execution_count": 92,
   "id": "792d70b9",
   "metadata": {
    "ExecuteTime": {
     "end_time": "2024-08-21T17:36:27.676000+01:00",
     "start_time": "2024-08-21T16:29:16.075Z"
    },
    "code_folding": [],
    "hidden": true
   },
   "outputs": [],
   "source": [
    "#NHEJ in hets\n",
    "param_mod_list = collect(0:0.01:1.0)\n",
    "param_label = [hαf,c,j,u,sy]\n",
    "rr_output = Array{Float64}(undef,length(param_mod_list),length(Rm_vec))\n",
    "\n",
    "y = 0\n",
    "for Rm in Rm_vec\n",
    "    y = y+1\n",
    "    x = 0\n",
    "    for param_mod in param_mod_list\n",
    "        x = x + 1\n",
    "        rr = find_release_rate_required(\n",
    "            n_releases,\n",
    "            0.0,\n",
    "            threshold,\n",
    "            YLE_subs_pdict;\n",
    "            t=n_releases,\n",
    "            release_genotype=[\"A\" \"a\" \"y\"],\n",
    "            fitness_effect = \"a\",\n",
    "            param_mod=[0.0,c_[set],j_[set],param_mod,0.22],\n",
    "            param_label=param_label,\n",
    "            Rm = Rm)\n",
    "\n",
    "        rr_output[x,y] = rr\n",
    "    end\n",
    "end"
   ]
  },
  {
   "cell_type": "code",
   "execution_count": 93,
   "id": "fb4aebbe",
   "metadata": {
    "ExecuteTime": {
     "end_time": "2024-08-21T17:36:27.879000+01:00",
     "start_time": "2024-08-21T16:29:16.331Z"
    },
    "code_folding": [],
    "hidden": true
   },
   "outputs": [
    {
     "name": "stderr",
     "output_type": "stream",
     "text": [
      "sys:1: UserWarning: FigureCanvasAgg is non-interactive, and thus cannot be shown\n"
     ]
    },
    {
     "data": {
      "image/png": "[encoded data removed]",
      "text/plain": [
       "PyPlot.Figure(PyObject <Figure size 300x250 with 1 Axes>)"
      ]
     },
     "metadata": {},
     "output_type": "display_data"
    }
   ],
   "source": [
    "#plot\n",
    "f1 = PyPlot.figure(figsize=(3,2.5))\n",
    "for i in 1:3\n",
    "    PyPlot.plot(param_mod_list,rr_output[:,i],cols[i])\n",
    "    PyPlot.plot(Float64(1.0),YLEdsx_rr_rm[1,i],\"o\",color = cols[i])\n",
    "end\n",
    "\n",
    "PyPlot.xlim(0,maximum(param_mod_list))\n",
    "PyPlot.yscale(\"log\")\n",
    "PyPlot.ylim(0.018,2)\n",
    "PyPlot.yticks([0.01,0.03,0.1,0.3,1],[0.01,0.03,0.1,0.3,1])\n",
    "\n",
    "PyPlot.ylabel(\"Release rate required\")\n",
    "PyPlot.xlabel(\"Mutation rate in WT (μ)\")\n",
    " \n",
    "PyPlot.show()\n",
    "PyPlot.savefig(\"../figures/SensitivityAnalysis_u_withcost.pdf\",bbox_inches = \"tight\")"
   ]
  },
  {
   "cell_type": "markdown",
   "id": "3c8bdb90",
   "metadata": {
    "heading_collapsed": true,
    "hidden": true
   },
   "source": [
    "#### Dominance coefficient of mutation"
   ]
  },
  {
   "cell_type": "code",
   "execution_count": 94,
   "id": "64ff955d",
   "metadata": {
    "ExecuteTime": {
     "end_time": "2024-08-21T17:39:19.378000+01:00",
     "start_time": "2024-08-21T16:29:17.003Z"
    },
    "hidden": true
   },
   "outputs": [],
   "source": [
    "#Dominance coefficient of mutation\n",
    "param_mod_list = collect(0:0.01:1.0)\n",
    "param_label = [hαf,c,j,haf,sy]\n",
    "rr_output = Array{Float64}(undef,length(param_mod_list),length(Rm_vec))\n",
    "\n",
    "y = 0\n",
    "for Rm in Rm_vec\n",
    "    y = y+1\n",
    "    x = 0\n",
    "    for param_mod in param_mod_list\n",
    "        x = x + 1\n",
    "        rr = find_release_rate_required(\n",
    "            n_releases,\n",
    "            0.0,\n",
    "            threshold,\n",
    "            YLE_subs_pdict;\n",
    "            t=n_releases,\n",
    "            release_genotype=[\"A\" \"a\" \"y\"],\n",
    "            fitness_effect = \"a\",\n",
    "            param_mod=[0.0,c_[set],j_[set],param_mod,0.22],\n",
    "            param_label=param_label,\n",
    "            Rm = Rm)\n",
    "\n",
    "        rr_output[x,y] = rr\n",
    "    end\n",
    "end\n"
   ]
  },
  {
   "cell_type": "code",
   "execution_count": 95,
   "id": "a7535cdb",
   "metadata": {
    "ExecuteTime": {
     "end_time": "2024-08-21T17:39:19.587000+01:00",
     "start_time": "2024-08-21T16:29:17.219Z"
    },
    "hidden": true
   },
   "outputs": [
    {
     "name": "stderr",
     "output_type": "stream",
     "text": [
      "sys:1: UserWarning: FigureCanvasAgg is non-interactive, and thus cannot be shown\n"
     ]
    },
    {
     "data": {
      "image/png": "[encoded data removed]",
      "text/plain": [
       "PyPlot.Figure(PyObject <Figure size 300x250 with 1 Axes>)"
      ]
     },
     "metadata": {},
     "output_type": "display_data"
    }
   ],
   "source": [
    "#plot\n",
    "f1 = PyPlot.figure(figsize=(3,2.5))\n",
    "for i in 1:3\n",
    "    PyPlot.plot(param_mod_list,rr_output[:,i],cols[i])\n",
    "    PyPlot.plot(1.0,YLEdsx_rr_rm[1,i],\"o\",color = cols[i])\n",
    "end\n",
    "\n",
    "PyPlot.xlim(0,maximum(param_mod_list))\n",
    "PyPlot.yscale(\"log\")\n",
    "PyPlot.ylim(0.018,2)\n",
    "PyPlot.yticks([0.01,0.03,0.1,0.3,1],[0.01,0.03,0.1,0.3,1])\n",
    "\n",
    "PyPlot.ylabel(\"Release rate required\")\n",
    "PyPlot.xlabel(\"Dominance coefficient of mutation (ha)\")\n",
    " \n",
    "PyPlot.show()\n",
    "PyPlot.savefig(\"../figures/SensitivityAnalysis_ha_withcost.pdf\",bbox_inches = \"tight\")"
   ]
  },
  {
   "cell_type": "markdown",
   "id": "e634adc0",
   "metadata": {
    "heading_collapsed": true,
    "hidden": true
   },
   "source": [
    "#### Dominance coefficientof NHEJ"
   ]
  },
  {
   "cell_type": "code",
   "execution_count": 96,
   "id": "c2e048d4",
   "metadata": {
    "ExecuteTime": {
     "end_time": "2024-08-21T17:41:10.859000+01:00",
     "start_time": "2024-08-21T16:29:17.763Z"
    },
    "hidden": true
   },
   "outputs": [],
   "source": [
    "#Dominance coefficient of NHEJ\n",
    "param_mod_list = collect(0:0.01:1.0)\n",
    "param_label = [hαf,c,j,sy]\n",
    "rr_output = Array{Float64}(undef,length(param_mod_list),length(Rm_vec))\n",
    "\n",
    "y = 0\n",
    "for Rm in Rm_vec\n",
    "    y = y+1\n",
    "    x = 0\n",
    "    for param_mod in param_mod_list\n",
    "        x = x + 1\n",
    "        rr = find_release_rate_required(\n",
    "            n_releases,\n",
    "            0.0,\n",
    "            threshold,\n",
    "            YLE_subs_pdict;\n",
    "            t=n_releases,\n",
    "            release_genotype=[\"A\" \"a\" \"y\"],\n",
    "            fitness_effect = \"a\",\n",
    "            param_mod=[param_mod,c_[set],j_[set],0.22],\n",
    "            param_label=param_label,\n",
    "            Rm = Rm)\n",
    "\n",
    "        rr_output[x,y] = rr\n",
    "    end\n",
    "end\n"
   ]
  },
  {
   "cell_type": "code",
   "execution_count": 97,
   "id": "8c0be0d4",
   "metadata": {
    "ExecuteTime": {
     "end_time": "2024-08-21T17:41:11.092000+01:00",
     "start_time": "2024-08-21T16:29:18.035Z"
    },
    "hidden": true
   },
   "outputs": [
    {
     "name": "stderr",
     "output_type": "stream",
     "text": [
      "sys:1: UserWarning: FigureCanvasAgg is non-interactive, and thus cannot be shown\n"
     ]
    },
    {
     "data": {
      "image/png": "[encoded data removed]",
      "text/plain": [
       "PyPlot.Figure(PyObject <Figure size 300x250 with 1 Axes>)"
      ]
     },
     "metadata": {},
     "output_type": "display_data"
    }
   ],
   "source": [
    "#plot\n",
    "f1 = PyPlot.figure(figsize=(3,2.5))\n",
    "for i in 1:3\n",
    "    PyPlot.plot(param_mod_list,rr_output[:,i],cols[i])\n",
    "    PyPlot.plot(0.0,YLEdsx_rr_rm[1,i],\"o\",color = cols[i])\n",
    "end\n",
    "\n",
    "PyPlot.xlim(0,maximum(param_mod_list))\n",
    "PyPlot.yscale(\"log\")\n",
    "PyPlot.ylim(0.018,2)\n",
    "PyPlot.yticks([0.01,0.03,0.1,0.3,1],[0.01,0.03,0.1,0.3,1])\n",
    "\n",
    "PyPlot.ylabel(\"Release rate required\")\n",
    "PyPlot.xlabel(\"Dominance coefficient of mutation (ha)\")\n",
    " \n",
    "PyPlot.show()\n",
    "PyPlot.savefig(\"../figures/SensitivityAnalysis_halpha_withcost.pdf\",bbox_inches = \"tight\")"
   ]
  },
  {
   "cell_type": "markdown",
   "id": "d91f9206",
   "metadata": {
    "heading_collapsed": true,
    "hidden": true
   },
   "source": [
    "#### Proportion of NHEJ which are dominant"
   ]
  },
  {
   "cell_type": "code",
   "execution_count": 98,
   "id": "05eeb063",
   "metadata": {
    "ExecuteTime": {
     "end_time": "2024-08-21T17:43:07.487000+01:00",
     "start_time": "2024-08-21T16:29:18.627Z"
    },
    "hidden": true
   },
   "outputs": [],
   "source": [
    "#Proportion of NHEJ which are dominant\n",
    "param_mod_list = collect(0:0.01:1.0)\n",
    "param_label = [hαf,c,j,p,q,sy]\n",
    "rr_output = Array{Float64}(undef,length(param_mod_list),length(Rm_vec))\n",
    "\n",
    "y = 0\n",
    "for Rm in Rm_vec\n",
    "    y = y+1\n",
    "    x = 0\n",
    "    for param_mod in param_mod_list\n",
    "        x = x + 1\n",
    "        rr = find_release_rate_required(\n",
    "            n_releases,\n",
    "            0.0,\n",
    "            threshold,\n",
    "            YLE_subs_pdict;\n",
    "            t=n_releases,\n",
    "            release_genotype=[\"A\" \"a\" \"y\"],\n",
    "            fitness_effect = \"a\",\n",
    "            param_mod=[0.0,c_[set],j_[set],param_mod,param_mod,0.22],\n",
    "            param_label=param_label,\n",
    "            Rm = Rm)\n",
    "\n",
    "        rr_output[x,y] = rr\n",
    "    end\n",
    "end\n"
   ]
  },
  {
   "cell_type": "code",
   "execution_count": 99,
   "id": "f61770b1",
   "metadata": {
    "ExecuteTime": {
     "end_time": "2024-08-21T17:43:07.692000+01:00",
     "start_time": "2024-08-21T16:29:18.883Z"
    },
    "hidden": true,
    "scrolled": true
   },
   "outputs": [
    {
     "name": "stderr",
     "output_type": "stream",
     "text": [
      "sys:1: UserWarning: FigureCanvasAgg is non-interactive, and thus cannot be shown\n"
     ]
    },
    {
     "data": {
      "image/png": "[encoded data removed]",
      "text/plain": [
       "PyPlot.Figure(PyObject <Figure size 300x250 with 1 Axes>)"
      ]
     },
     "metadata": {},
     "output_type": "display_data"
    }
   ],
   "source": [
    "#plot\n",
    "f1 = PyPlot.figure(figsize=(3,2.5))\n",
    "for i in 1:3\n",
    "    PyPlot.plot(param_mod_list,rr_output[:,i],cols[i])\n",
    "    PyPlot.plot(0.0,YLEdsx_rr_rm[1,i],\"o\",color = cols[i])\n",
    "end\n",
    "\n",
    "PyPlot.xlim(0,maximum(param_mod_list))\n",
    "PyPlot.yscale(\"log\")\n",
    "PyPlot.ylim(0.018,2)\n",
    "PyPlot.yticks([0.01,0.03,0.1,0.3,1],[0.01,0.03,0.1,0.3,1])\n",
    "\n",
    "PyPlot.ylabel(\"Release rate required\")\n",
    "PyPlot.xlabel(\"Dominance coefficient of mutation (ha)\")\n",
    " \n",
    "PyPlot.show()\n",
    "PyPlot.savefig(\"../figures/SensitivityAnalysis_pq_withcost.pdf\",bbox_inches = \"tight\")"
   ]
  },
  {
   "cell_type": "markdown",
   "id": "d8f4bbe4",
   "metadata": {
    "heading_collapsed": true,
    "hidden": true
   },
   "source": [
    "#### Costs of YLE in males"
   ]
  },
  {
   "cell_type": "code",
   "execution_count": 100,
   "id": "ad8e79d6",
   "metadata": {
    "ExecuteTime": {
     "end_time": "2024-08-21T17:45:01.944000+01:00",
     "start_time": "2024-08-21T16:29:19.747Z"
    },
    "code_folding": [],
    "hidden": true
   },
   "outputs": [],
   "source": [
    "#Proportion of NHEJ which are dominant\n",
    "param_mod_list = collect(0:0.01:1.0)\n",
    "param_label = [hαf,c,j,sy]\n",
    "rr_output = Array{Float64}(undef,length(param_mod_list),length(Rm_vec))\n",
    "\n",
    "y = 0\n",
    "for Rm in Rm_vec\n",
    "    y = y+1\n",
    "    x = 0\n",
    "    for param_mod in param_mod_list\n",
    "        x = x + 1\n",
    "        rr = find_release_rate_required(\n",
    "            n_releases,\n",
    "            0.0,\n",
    "            threshold,\n",
    "            YLE_subs_pdict;\n",
    "            t=n_releases,\n",
    "            release_genotype=[\"A\" \"a\" \"y\"],\n",
    "            fitness_effect = \"a\",\n",
    "            param_mod=[0.0,c_[set],j_[set],param_mod],\n",
    "            param_label=param_label,\n",
    "            Rm = Rm)\n",
    "\n",
    "        rr_output[x,y] = rr\n",
    "    end\n",
    "end\n"
   ]
  },
  {
   "cell_type": "code",
   "execution_count": 101,
   "id": "a64a18d1",
   "metadata": {
    "ExecuteTime": {
     "end_time": "2024-08-21T17:45:02.187000+01:00",
     "start_time": "2024-08-21T16:29:20.148Z"
    },
    "code_folding": [],
    "hidden": true,
    "scrolled": false
   },
   "outputs": [
    {
     "name": "stderr",
     "output_type": "stream",
     "text": [
      "sys:1: UserWarning: FigureCanvasAgg is non-interactive, and thus cannot be shown\n"
     ]
    },
    {
     "data": {
      "image/png": "[encoded data removed]",
      "text/plain": [
       "PyPlot.Figure(PyObject <Figure size 300x250 with 1 Axes>)"
      ]
     },
     "metadata": {},
     "output_type": "display_data"
    }
   ],
   "source": [
    "#plot\n",
    "f1 = PyPlot.figure(figsize=(3,2.5))\n",
    "for i in 1:3\n",
    "    PyPlot.plot(param_mod_list,rr_output[:,i],cols[i],label=i)\n",
    "    PyPlot.plot(0.22,YLEdsx_rr_rm[1,i],\"o\",color = cols[i])\n",
    "end\n",
    "\n",
    "PyPlot.xlim(0,maximum(param_mod_list))\n",
    "PyPlot.yscale(\"log\")\n",
    "PyPlot.ylim(0.018,2)\n",
    "PyPlot.yticks([0.01,0.03,0.1,0.3,1],[0.01,0.03,0.1,0.3,1])\n",
    "\n",
    "PyPlot.ylabel(\"Release rate required\")\n",
    "PyPlot.xlabel(\"Fitness costs of YLE in males (sy)\")\n",
    " \n",
    "PyPlot.show()\n",
    "PyPlot.legend()\n",
    "PyPlot.savefig(\"../figures/SensitivityAnalysis_sy.pdf\",bbox_inches = \"tight\")"
   ]
  },
  {
   "cell_type": "code",
   "execution_count": null,
   "id": "33a03b92",
   "metadata": {
    "hidden": true
   },
   "outputs": [],
   "source": []
  },
  {
   "cell_type": "markdown",
   "id": "cd4012a4",
   "metadata": {
    "heading_collapsed": true
   },
   "source": [
    "## Figure 6 - Time course"
   ]
  },
  {
   "cell_type": "code",
   "execution_count": 102,
   "id": "bf55b279",
   "metadata": {
    "ExecuteTime": {
     "end_time": "2024-08-21T17:45:02.229000+01:00",
     "start_time": "2024-08-21T16:29:22.355Z"
    },
    "hidden": true
   },
   "outputs": [],
   "source": [
    "#Define parametr values for simulations based on experimental data\n",
    "YLEdsx_subs_pdict = deepcopy(YLE_subs_pdict)\n",
    "YLEdsx_subs_pdict[c] = c_[1] \n",
    "YLEdsx_subs_pdict[j] = j_[1] \n",
    "YLEdsx_subs_pdict[hαf] = 0.0\n",
    "YLEdsx_subs_pdict[sy] = 0.22\n",
    "YLEdsx_subs_list = [(p,YLEdsx_subs_pdict[p]) for p in keys(pdict)];"
   ]
  },
  {
   "cell_type": "markdown",
   "id": "9dfacaa1",
   "metadata": {
    "hidden": true
   },
   "source": [
    "### Single release 100%"
   ]
  },
  {
   "cell_type": "code",
   "execution_count": 103,
   "id": "70c4868e",
   "metadata": {
    "ExecuteTime": {
     "end_time": "2024-08-21T17:45:02.512000+01:00",
     "start_time": "2024-08-21T16:29:22.996Z"
    },
    "code_folding": [],
    "hidden": true
   },
   "outputs": [],
   "source": [
    "#Single release 100%\n",
    "t=40\n",
    "release_freq = 1.0\n",
    "release_genotype=[\"A\" \"a\" \"y\"]\n",
    "fitness_effect = \"a\"\n",
    "release_regime = false\n",
    "\n",
    "YLESingle_out = Simulate_single_release_example(YLEdsx_subs_list,t,release_freq,release_genotype,release_regime = false,fitness_effect = \"a\");"
   ]
  },
  {
   "cell_type": "code",
   "execution_count": 104,
   "id": "7cab4826",
   "metadata": {
    "ExecuteTime": {
     "end_time": "2024-08-21T17:45:02.653000+01:00",
     "start_time": "2024-08-21T16:29:23.332Z"
    },
    "hidden": true
   },
   "outputs": [
    {
     "name": "stderr",
     "output_type": "stream",
     "text": [
      "sys:1: UserWarning: FigureCanvasAgg is non-interactive, and thus cannot be shown\n"
     ]
    },
    {
     "data": {
      "image/png": "[encoded data removed]",
      "text/plain": [
       "PyPlot.Figure(PyObject <Figure size 300x200 with 1 Axes>)"
      ]
     },
     "metadata": {},
     "output_type": "display_data"
    }
   ],
   "source": [
    "f1 = PyPlot.figure(figsize=(3,2))\n",
    "\n",
    "PyPlot.plot(0:t,YLESingle_out[\"relative_number_females\"].adult,c=\"black\",\"-\")\n",
    "PyPlot.plot(0:t,YLESingle_out[\"allelefreq_zygote\"].a,c=\"#c00000\",\"-\")\n",
    "PyPlot.plot(0:t,YLESingle_out[\"allelefreq_zygote\"].α,c=\"#c00000\",\"--\")\n",
    "PyPlot.plot(0:t,YLESingle_out[\"yfreq_zygote\"].y,c=\"#00b0f0\",\"-\")\n",
    "\n",
    "PyPlot.ylim(0,1.02)\n",
    "PyPlot.xlim(0,t)\n",
    "\n",
    "PyPlot.show()\n",
    "PyPlot.savefig(\"../figures/TimeSeries_100SingleRelease_withcost.pdf\",bbox_inches = \"tight\")"
   ]
  },
  {
   "cell_type": "markdown",
   "id": "02517a0b",
   "metadata": {
    "hidden": true
   },
   "source": [
    "### Repeat release 20% for 6 generations"
   ]
  },
  {
   "cell_type": "code",
   "execution_count": 105,
   "id": "b604ab3b",
   "metadata": {
    "ExecuteTime": {
     "end_time": "2024-08-21T17:45:02.911000+01:00",
     "start_time": "2024-08-21T16:29:24.611Z"
    },
    "hidden": true
   },
   "outputs": [],
   "source": [
    "#Repeat release 20% for 6 generations\n",
    "\n",
    "t=40\n",
    "release_freq = 0.2\n",
    "release_genotype=[\"A\" \"a\" \"y\"]\n",
    "fitness_effect = \"a\"\n",
    "n_releases = 6\n",
    "release_regime = repeat([0.0],t)\n",
    "for i in 1:n_releases\n",
    "    release_regime[i] = release_freq\n",
    "end\n",
    "\n",
    "YLE6Rep_out = Simulate_single_release_example(YLEdsx_subs_list,t,release_freq,release_genotype,release_regime = release_regime,fitness_effect = \"a\");\n"
   ]
  },
  {
   "cell_type": "code",
   "execution_count": 106,
   "id": "fe3121f9",
   "metadata": {
    "ExecuteTime": {
     "end_time": "2024-08-21T17:45:03.024000+01:00",
     "start_time": "2024-08-21T16:29:24.851Z"
    },
    "hidden": true
   },
   "outputs": [
    {
     "name": "stderr",
     "output_type": "stream",
     "text": [
      "sys:1: UserWarning: FigureCanvasAgg is non-interactive, and thus cannot be shown\n"
     ]
    },
    {
     "data": {
      "image/png": "[encoded data removed]",
      "text/plain": [
       "PyPlot.Figure(PyObject <Figure size 300x200 with 1 Axes>)"
      ]
     },
     "metadata": {},
     "output_type": "display_data"
    }
   ],
   "source": [
    "f1 = PyPlot.figure(figsize=(3,2))\n",
    "\n",
    "PyPlot.plot(0:t,YLE6Rep_out[\"relative_number_females\"].adult,c=\"black\",\"-\")\n",
    "PyPlot.plot(0:t,YLE6Rep_out[\"allelefreq_zygote\"].a,c=\"#c00000\",\"-\")\n",
    "PyPlot.plot(0:t,YLE6Rep_out[\"allelefreq_zygote\"].α,c=\"#c00000\",\"--\")\n",
    "PyPlot.plot(0:t,YLE6Rep_out[\"yfreq_zygote\"].y,c=\"#00b0f0\",\"-\")\n",
    "\n",
    "PyPlot.ylim(0,1.02)\n",
    "PyPlot.xlim(0,t)\n",
    "\n",
    "PyPlot.show()\n",
    "PyPlot.savefig(\"../figures/TimeSeries_20Rep6Release_withcost.pdf\",bbox_inches = \"tight\")"
   ]
  },
  {
   "cell_type": "markdown",
   "id": "dba31b07",
   "metadata": {
    "hidden": true
   },
   "source": [
    "### Repeat release 20% every generation"
   ]
  },
  {
   "cell_type": "code",
   "execution_count": 107,
   "id": "1b24ec6d",
   "metadata": {
    "ExecuteTime": {
     "end_time": "2024-08-21T17:45:03.282000+01:00",
     "start_time": "2024-08-21T16:29:25.435Z"
    },
    "hidden": true
   },
   "outputs": [],
   "source": [
    "#Repeat release 20% every generation\n",
    "\n",
    "t=40\n",
    "release_freq = 0.2\n",
    "release_genotype=[\"A\" \"a\" \"y\"]\n",
    "fitness_effect = \"a\"\n",
    "n_releases = t\n",
    "release_regime = repeat([0.0],t)\n",
    "for i in 1:n_releases\n",
    "    release_regime[i] = release_freq\n",
    "end\n",
    "\n",
    "YLERep_out = Simulate_single_release_example(YLEdsx_subs_list,t,release_freq,release_genotype,release_regime = release_regime,fitness_effect = \"a\");"
   ]
  },
  {
   "cell_type": "code",
   "execution_count": 108,
   "id": "e993b9bc",
   "metadata": {
    "ExecuteTime": {
     "end_time": "2024-08-21T17:45:03.392000+01:00",
     "start_time": "2024-08-21T16:29:25.723Z"
    },
    "hidden": true
   },
   "outputs": [
    {
     "name": "stderr",
     "output_type": "stream",
     "text": [
      "sys:1: UserWarning: FigureCanvasAgg is non-interactive, and thus cannot be shown\n"
     ]
    },
    {
     "data": {
      "image/png": "[encoded data removed]",
      "text/plain": [
       "PyPlot.Figure(PyObject <Figure size 300x200 with 1 Axes>)"
      ]
     },
     "metadata": {},
     "output_type": "display_data"
    }
   ],
   "source": [
    "f1 = PyPlot.figure(figsize=(3,2))\n",
    "\n",
    "PyPlot.plot(0:t,YLERep_out[\"relative_number_females\"].adult,c=\"black\",\"-\")\n",
    "PyPlot.plot(0:t,YLERep_out[\"allelefreq_zygote\"].a,c=\"#c00000\",\"-\")\n",
    "PyPlot.plot(0:t,YLERep_out[\"allelefreq_zygote\"].α,c=\"#c00000\",\"--\")\n",
    "PyPlot.plot(0:t,YLERep_out[\"yfreq_zygote\"].y,c=\"#00b0f0\",\"-\")\n",
    "\n",
    "PyPlot.ylim(0,1.02)\n",
    "PyPlot.xlim(0,t)\n",
    "\n",
    "PyPlot.show()\n",
    "PyPlot.savefig(\"../figures/TimeSeries_20RepRelease_withcost.pdf\",bbox_inches = \"tight\")"
   ]
  },
  {
   "cell_type": "markdown",
   "id": "e0564c56",
   "metadata": {
    "heading_collapsed": true
   },
   "source": [
    "## Table 1"
   ]
  },
  {
   "cell_type": "markdown",
   "id": "9abc63fc",
   "metadata": {
    "hidden": true
   },
   "source": [
    "### Finding the release rates for different single locus strategie"
   ]
  },
  {
   "cell_type": "code",
   "execution_count": 148,
   "id": "eb2e76e2",
   "metadata": {
    "ExecuteTime": {
     "end_time": "2024-08-21T17:49:59.156000+01:00",
     "start_time": "2024-08-21T16:49:59.145Z"
    },
    "hidden": true
   },
   "outputs": [
    {
     "data": {
      "text/plain": [
       "3-element Vector{Float64}:\n",
       " 0.33\n",
       " 0.05\n",
       " 0.01"
      ]
     },
     "execution_count": 148,
     "metadata": {},
     "output_type": "execute_result"
    }
   ],
   "source": [
    "#Define the number of releases in which the desired level of suppression is needed\n",
    "n_releases = 36\n",
    "t=36\n",
    "#Define the level of suppression\n",
    "thresholds = [0.33,0.05,0.01]"
   ]
  },
  {
   "cell_type": "code",
   "execution_count": 150,
   "id": "3c9daab3",
   "metadata": {
    "ExecuteTime": {
     "end_time": "2024-08-21T17:50:06.984000+01:00",
     "start_time": "2024-08-21T16:50:05.955Z"
    },
    "hidden": true
   },
   "outputs": [
    {
     "data": {
      "text/plain": [
       "3-element Vector{Any}:\n",
       " 0.1341\n",
       " 0.18010000000000004\n",
       " 0.1904"
      ]
     },
     "execution_count": 150,
     "metadata": {},
     "output_type": "execute_result"
    }
   ],
   "source": [
    "#Empirical YLE\n",
    "YLEdsx_rr = []\n",
    "for threshold in thresholds\n",
    "    rr = find_release_rate_required(\n",
    "                    n_releases,\n",
    "                    0.0,\n",
    "                    threshold,\n",
    "                    YLE_subs_pdict;\n",
    "                    t=n_releases,\n",
    "                    release_genotype=[\"A\" \"a\" \"y\"],\n",
    "                    fitness_effect = \"a\",\n",
    "                    param_label=[c,j,p,q,hαf,sy],\n",
    "                    param_mod=[c_[1],j_[1],0.0,0.0,0.0,0.22])\n",
    "    push!(YLEdsx_rr,rr)\n",
    "end\n",
    "YLEdsx_rr"
   ]
  },
  {
   "cell_type": "code",
   "execution_count": 111,
   "id": "ae79c5da",
   "metadata": {
    "ExecuteTime": {
     "end_time": "2024-08-21T17:45:05.565000+01:00",
     "start_time": "2024-08-21T16:29:28.907Z"
    },
    "hidden": true
   },
   "outputs": [
    {
     "data": {
      "text/plain": [
       "3-element Vector{Any}:\n",
       " 0.021099999999999997\n",
       " 0.03650000000000002\n",
       " 0.040800000000000024"
      ]
     },
     "execution_count": 111,
     "metadata": {},
     "output_type": "execute_result"
    }
   ],
   "source": [
    "#Optimal YLE\n",
    "YLE_rr = []\n",
    "for threshold in thresholds\n",
    "    rr = find_release_rate_required(\n",
    "                    n_releases,\n",
    "                    0.0,\n",
    "                    threshold,\n",
    "                    YLE_subs_pdict;\n",
    "                    t=n_releases,\n",
    "                    release_genotype=[\"a\" \"a\" \"y\"],\n",
    "                    fitness_effect = \"a\")\n",
    "    push!(YLE_rr,rr)\n",
    "end\n",
    "YLE_rr"
   ]
  },
  {
   "cell_type": "code",
   "execution_count": 112,
   "id": "45771ac2",
   "metadata": {
    "ExecuteTime": {
     "end_time": "2024-08-21T17:45:05.587000+01:00",
     "start_time": "2024-08-21T16:29:29.244Z"
    },
    "hidden": true
   },
   "outputs": [
    {
     "data": {
      "text/plain": [
       "3-element Vector{Float64}:\n",
       " 0.15734526472781504\n",
       " 0.20266518600777353\n",
       " 0.21428571428571438"
      ]
     },
     "execution_count": 112,
     "metadata": {},
     "output_type": "execute_result"
    }
   ],
   "source": [
    "YLE_rr./YLEdsx_rr"
   ]
  },
  {
   "cell_type": "code",
   "execution_count": 113,
   "id": "a6ff4e7f",
   "metadata": {
    "ExecuteTime": {
     "end_time": "2024-08-21T17:45:06.890000+01:00",
     "start_time": "2024-08-21T16:29:29.620Z"
    },
    "hidden": true
   },
   "outputs": [
    {
     "data": {
      "text/plain": [
       "3-element Vector{Any}:\n",
       " 1.2851999999999997\n",
       " 1.2969999999999995\n",
       " 1.2995999999999992"
      ]
     },
     "execution_count": 113,
     "metadata": {},
     "output_type": "execute_result"
    }
   ],
   "source": [
    "#OPtimal SIT\n",
    "SIT_rr = []\n",
    "for threshold in thresholds\n",
    "    rr = find_release_rate_required(\n",
    "                    n_releases,\n",
    "                    0.0,\n",
    "                    threshold,\n",
    "                    SIT_subs_pdict;\n",
    "                    t=n_releases,\n",
    "                    release_genotype=[\"a\" \"a\" \"Y\"],\n",
    "                    fitness_effect = \"b\")\n",
    "    push!(SIT_rr,rr)\n",
    "end\n",
    "SIT_rr"
   ]
  },
  {
   "cell_type": "code",
   "execution_count": 114,
   "id": "995bd300",
   "metadata": {
    "ExecuteTime": {
     "end_time": "2024-08-21T17:45:06.892000+01:00",
     "start_time": "2024-08-21T16:29:29.956Z"
    },
    "hidden": true
   },
   "outputs": [
    {
     "data": {
      "text/plain": [
       "3-element Vector{Float64}:\n",
       " 9.583892617449662\n",
       " 7.201554691837863\n",
       " 6.825630252100836"
      ]
     },
     "execution_count": 114,
     "metadata": {},
     "output_type": "execute_result"
    }
   ],
   "source": [
    "SIT_rr./YLEdsx_rr"
   ]
  },
  {
   "cell_type": "code",
   "execution_count": 115,
   "id": "dbd2d9dc",
   "metadata": {
    "ExecuteTime": {
     "end_time": "2024-08-21T17:45:08.178000+01:00",
     "start_time": "2024-08-21T16:29:30.300Z"
    },
    "hidden": true
   },
   "outputs": [
    {
     "data": {
      "text/plain": [
       "3-element Vector{Any}:\n",
       " 0.47230000000000005\n",
       " 0.6674\n",
       " 0.6774"
      ]
     },
     "execution_count": 115,
     "metadata": {},
     "output_type": "execute_result"
    }
   ],
   "source": [
    "#Optimal fsRIDL\n",
    "fsRIDL_rr = []\n",
    "for threshold in thresholds\n",
    "    rr = find_release_rate_required(\n",
    "                    n_releases,\n",
    "                    0.0,\n",
    "                    threshold,\n",
    "                    fsRIDL_subs_pdict;\n",
    "                    t=n_releases,\n",
    "                    release_genotype=[\"a\" \"a\" \"Y\"],\n",
    "                    fitness_effect = \"a\")\n",
    "    push!(fsRIDL_rr,rr)\n",
    "end\n",
    "fsRIDL_rr"
   ]
  },
  {
   "cell_type": "code",
   "execution_count": 116,
   "id": "86a23d11",
   "metadata": {
    "ExecuteTime": {
     "end_time": "2024-08-21T17:45:08.180000+01:00",
     "start_time": "2024-08-21T16:29:30.612Z"
    },
    "hidden": true
   },
   "outputs": [
    {
     "data": {
      "text/plain": [
       "3-element Vector{Float64}:\n",
       " 3.5219985085756904\n",
       " 3.7057190449750133\n",
       " 3.5577731092436973"
      ]
     },
     "execution_count": 116,
     "metadata": {},
     "output_type": "execute_result"
    }
   ],
   "source": [
    "fsRIDL_rr./YLEdsx_rr"
   ]
  },
  {
   "cell_type": "code",
   "execution_count": 117,
   "id": "9759c5e4",
   "metadata": {
    "ExecuteTime": {
     "end_time": "2024-08-21T17:45:09.375000+01:00",
     "start_time": "2024-08-21T16:29:30.987Z"
    },
    "hidden": true
   },
   "outputs": [
    {
     "data": {
      "text/plain": [
       "3-element Vector{Any}:\n",
       " 0.4185\n",
       " 0.4376\n",
       " 0.43920000000000003"
      ]
     },
     "execution_count": 117,
     "metadata": {},
     "output_type": "execute_result"
    }
   ],
   "source": [
    "#OPtimal RIDL\n",
    "RIDL_rr = []\n",
    "for threshold in thresholds\n",
    "    rr = find_release_rate_required(\n",
    "                    n_releases,\n",
    "                    0.0,\n",
    "                    threshold,\n",
    "                    fsRIDL_subs_pdict;\n",
    "                    t=n_releases,\n",
    "                    release_genotype=[\"a\" \"a\" \"y\"],\n",
    "                    fitness_effect = \"a\",\n",
    "                    param_label=[sam,ham,sαm,hαm,saαm],\n",
    "                    param_mod=[1.0,1.0,1.0,1.0,1.0])\n",
    "    push!(RIDL_rr,rr)\n",
    "end\n",
    "RIDL_rr"
   ]
  },
  {
   "cell_type": "code",
   "execution_count": 118,
   "id": "2deec270",
   "metadata": {
    "ExecuteTime": {
     "end_time": "2024-08-21T17:45:09.376000+01:00",
     "start_time": "2024-08-21T16:29:31.332Z"
    },
    "hidden": true
   },
   "outputs": [
    {
     "data": {
      "text/plain": [
       "3-element Vector{Float64}:\n",
       " 3.120805369127517\n",
       " 2.42976124375347\n",
       " 2.30672268907563"
      ]
     },
     "execution_count": 118,
     "metadata": {},
     "output_type": "execute_result"
    }
   ],
   "source": [
    "RIDL_rr./YLEdsx_rr"
   ]
  },
  {
   "cell_type": "markdown",
   "id": "e2d4d107",
   "metadata": {
    "hidden": true
   },
   "source": [
    "### Finding the release rates for stratgies involving X-shredding (load in 2-locus model)\n",
    "\n",
    "Note that 3 alleles are encoded for the X-shredder containing locus, however for this project only 2 are used. "
   ]
  },
  {
   "cell_type": "markdown",
   "id": "23ce41d7",
   "metadata": {
    "hidden": true
   },
   "source": [
    "#### Define variables"
   ]
  },
  {
   "cell_type": "code",
   "execution_count": 119,
   "id": "6ee121e7",
   "metadata": {
    "ExecuteTime": {
     "end_time": "2024-08-21T17:45:27.807000+01:00",
     "start_time": "2024-08-21T16:29:32.340Z"
    },
    "hidden": true
   },
   "outputs": [],
   "source": [
    "#Define all alleles, genotypes, inheritance and fitness data structures\n",
    "\n",
    "A_alleles = ['A','a','α']\n",
    "#A = WT\n",
    "#a = X-shredder\n",
    "#α = edit\n",
    "\n",
    "B_alleles = ['B','b','β'];\n",
    "#B = target site\n",
    "#b = edit 1\n",
    "#β = edit 2\n",
    "\n",
    "Y_genotypes = [\"Y\",\"y\"];\n",
    "#Y = WT\n",
    "#y = construct\n",
    "\n",
    "\n",
    "#Define all A and B allele combinations: Creating single chromosomes due to linkage\n",
    "#in females\n",
    "alleles = []\n",
    "for A in A_alleles\n",
    "    for B in B_alleles\n",
    "        push!(alleles,(A*B))\n",
    "    end\n",
    "end;\n",
    "falleles = alleles\n",
    "#in males\n",
    "alleles_m = []\n",
    "for A in A_alleles\n",
    "    for B in B_alleles\n",
    "        for Y in Y_genotypes\n",
    "            push!(alleles_m,(A*B, Y))\n",
    "        end\n",
    "    end\n",
    "end;\n",
    "malleles = alleles_m\n",
    "        \n",
    "#Define all genotypes at locus A\n",
    "A_genotypes = []\n",
    "for i in 1:length(A_alleles)\n",
    "    allele1 = A_alleles[i]\n",
    "    for j in i:length(A_alleles)\n",
    "        allele2 = A_alleles[j]\n",
    "        push!(A_genotypes,(allele1*allele2))\n",
    "    end\n",
    "end;\n",
    "       \n",
    "#Define all genotypes at locus B\n",
    "B_genotypes = []\n",
    "for i in 1:length(B_alleles)\n",
    "    allele1 = B_alleles[i]\n",
    "    for j in i:length(B_alleles)\n",
    "        allele2 = B_alleles[j]\n",
    "        push!(B_genotypes,(allele1*allele2))\n",
    "    end\n",
    "end;\n",
    "                \n",
    "#Define all genotypes for both A and B loci combined\n",
    "#in females\n",
    "genotypes_f = []\n",
    "for i in 1:length(alleles)\n",
    "    allele1 = alleles[i]\n",
    "    for j in i:length(alleles)\n",
    "        allele2 = alleles[j]\n",
    "        push!(genotypes_f,([allele1 allele2]))\n",
    "    end\n",
    "end;\n",
    "                    \n",
    "#in males\n",
    "genotypes_m = []\n",
    "for i in genotypes_f\n",
    "    allele1 = i[1]\n",
    "    allele2 = i[2]\n",
    "    for yallele in Y_genotypes\n",
    "        push!(genotypes_m,([allele1 allele2 yallele]))\n",
    "    end\n",
    "end\n",
    "                        \n",
    "#Load in model\n",
    "sbf, hbf, sβf, hβf, sbβf,sbm, hbm, sβm, hβm, sbβm, sXam, c, j, p, u, q, m = Sym(\"sbf hbf sβf hβf sbβf sbm hbm sβm hβm sbβm sXam c j p u q m\")\n",
    "\n",
    "#Read in genotypes from storage\n",
    "genotypes_f_string = readdlm(\"./YLEXS/YLEXS_genotypes_f.csv\", ',', String,header=false);\n",
    "genotypes_m_string = readdlm(\"./YLEXS/YLEXS_genotypes_m.csv\", ',', String,header=false);\n",
    "\n",
    "#Define dictionary for indexing \n",
    "index_dict_f = Dict()\n",
    "[index_dict_f[genotypes_f_string[i]] = i for i in 1:length(genotypes_f_string)]\n",
    "index_dict_f\n",
    "\n",
    "index_dict_m = Dict()\n",
    "[index_dict_m[genotypes_m_string[i]] = i for i in 1:length(genotypes_m_string)]\n",
    "index_dict_m\n",
    "\n",
    "#Read in and convert data back to IC_F\n",
    "flattened_ic_f = readdlm(\"./YLEXS/YLEXS_inheritance_f.csv\", ',', String,header=true)[1]\n",
    "flattened_ic_f = convert(Array{Any}, flattened_ic_f)\n",
    "flattened_ic_f[:,1] = [index_dict_f[i] for i in flattened_ic_f[:,1]]\n",
    "flattened_ic_f[:,2] = [index_dict_m[i] for i in flattened_ic_f[:,2]]\n",
    "flattened_ic_f[:,3:end] = eval.(Meta.parse.(flattened_ic_f[:,3:end]))\n",
    "ic_f = Array{Any}(undef,length(genotypes_f_string),length(genotypes_m_string),length(genotypes_f_string))\n",
    "for i in 1:length(flattened_ic_f[:,1])\n",
    "    mother,father = flattened_ic_f[i,1:2]\n",
    "    ic_f[mother,father,:] = flattened_ic_f[i,3:end]\n",
    "end\n",
    "ic_f = Sym.(ic_f);\n",
    "\n",
    "#Read in and convert data back to IC_M\n",
    "flattened_ic_m = readdlm(\"./YLEXS/YLEXS_inheritance_m.csv\", ',', String,header=true)[1]\n",
    "flattened_ic_m = convert(Array{Any}, flattened_ic_m)\n",
    "flattened_ic_m[:,1] = [index_dict_f[i] for i in flattened_ic_m[:,1]]\n",
    "flattened_ic_m[:,2] = [index_dict_m[i] for i in flattened_ic_m[:,2]]\n",
    "flattened_ic_m[:,3:end] = eval.(Meta.parse.(flattened_ic_m[:,3:end]))\n",
    "ic_m = Array{Any}(undef,length(genotypes_f_string),length(genotypes_m_string),length(genotypes_m_string))\n",
    "for i in 1:length(flattened_ic_m[:,1])\n",
    "    mother,father = flattened_ic_m[i,1:2]\n",
    "    ic_m[mother,father,:] = flattened_ic_m[i,3:end]\n",
    "end\n",
    "ic_m = Sym.(ic_m);\n",
    "\n",
    "#Read in fitness from storage\n",
    "fitness_f = readdlm(\"./YLEXS/YLEXS_fitness_f.csv\", ',', String,header=true)[1]\n",
    "fitness_f = convert(Array{Any}, fitness_f)\n",
    "fitness_f = eval.(Meta.parse.(fitness_f))\n",
    "fitness_f = Sym.(fitness_f)\n",
    "\n",
    "fitness_m = readdlm(\"./YLEXS/YLEXS_fitness_m.csv\", ',', String,header=true)[1]\n",
    "fitness_m = convert(Array{Any}, fitness_m)\n",
    "fitness_m = eval.(Meta.parse.(fitness_m))\n",
    "fitness_m = Sym.(fitness_m);"
   ]
  },
  {
   "cell_type": "markdown",
   "id": "77e831a6",
   "metadata": {
    "hidden": true
   },
   "source": [
    "#### Identify release rate"
   ]
  },
  {
   "cell_type": "code",
   "execution_count": 120,
   "id": "9256a77d",
   "metadata": {
    "ExecuteTime": {
     "end_time": "2024-08-21T17:46:12.583000+01:00",
     "start_time": "2024-08-21T16:29:32.940Z"
    },
    "hidden": true
   },
   "outputs": [],
   "source": [
    "#OPtimal X-shredder param setup\n",
    "\n",
    "# Define parameters and save in dictionary (set values as you wish)\n",
    "pdict = Dict()\n",
    "pdict[sbf]=1.0\n",
    "pdict[hbf]=1.0\n",
    "pdict[sβf]=1.0\n",
    "pdict[hβf]=1.0\n",
    "pdict[sbβf]=1.0\n",
    "\n",
    "pdict[c]=0.0\n",
    "pdict[j]=0.0\n",
    "\n",
    "pdict[p]=0.0\n",
    "pdict[u]=0.0\n",
    "pdict[q]=0.0\n",
    "pdict[m] = 1.0\n",
    "pdict[sXam]=0.0\n",
    "\n",
    "Rm = 6\n",
    "Nf_eq = 1000.0\n",
    "params=Dict()\n",
    "params[\"OJ\"] = 1/10\n",
    "params[\"f\"] = (2*Rm)/params[\"OJ\"]\n",
    "params[\"α\"] = params[\"f\"]*Nf_eq/(Rm-1)\n",
    "params[\"fm\"]=0.0\n",
    "\n",
    "# Substitute symbols for numerical values: outputs are sex_ratio, fitness and inheritance\n",
    "subs_list = [(p,pdict[p]) for p in keys(pdict)];\n",
    "\n",
    "#Fitness\n",
    "fitness_f_vals = Array{Float64}(fitness_f.subs(subs_list))\n",
    "fitness_m_vals = Array{Float64}(fitness_m.subs(subs_list))\n",
    "\n",
    "#inheritance\n",
    "Nf = length(ic_f[1,1,:])\n",
    "Nm = length(ic_m[1,1,:])\n",
    "ic_vals = Array{Any,3}(nothing,Nf,Nm,Nf)\n",
    "for i in 1:Nf\n",
    "    ic_vals[i,:,:] = ic_f[i,:,:].subs(subs_list)\n",
    "end\n",
    "ic_f_vals = Array{Float64}(ic_vals);\n",
    "\n",
    "ic_vals = Array{Any,3}(nothing,Nf,Nm,Nm)\n",
    "for i in 1:Nf\n",
    "    ic_vals[i,:,:] = ic_m[i,:,:].subs(subs_list)\n",
    "end\n",
    "ic_m_vals = Array{Float64}(ic_vals);\n"
   ]
  },
  {
   "cell_type": "code",
   "execution_count": 121,
   "id": "1ff3fc0c",
   "metadata": {
    "ExecuteTime": {
     "end_time": "2024-08-21T17:46:24.198000+01:00",
     "start_time": "2024-08-21T16:29:33.195Z"
    },
    "hidden": true
   },
   "outputs": [
    {
     "data": {
      "text/plain": [
       "3-element Vector{Any}:\n",
       " 0.23920000000000005\n",
       " 0.3955000000000001\n",
       " 0.4021"
      ]
     },
     "execution_count": 121,
     "metadata": {},
     "output_type": "execute_result"
    }
   ],
   "source": [
    "#OPtimal X-shredder\n",
    "release_genotype=[\"aB\" \"aB\" \"Y\"]\n",
    "threshold = 0.05\n",
    "XS_rr = []\n",
    "for threshold in thresholds\n",
    "    rr = find_release_rate_required_2locus(release_genotype,\n",
    "                                    threshold,\n",
    "                                    ic_f_vals,\n",
    "                                    ic_m_vals,\n",
    "                                    fitness_f_vals,\n",
    "                                    fitness_m_vals,\n",
    "                                    params,\n",
    "                                    fitness_effect=\"a\")\n",
    "    push!(XS_rr,rr)\n",
    "end\n",
    "XS_rr"
   ]
  },
  {
   "cell_type": "code",
   "execution_count": 122,
   "id": "956f31d9",
   "metadata": {
    "ExecuteTime": {
     "end_time": "2024-08-21T17:46:24.200000+01:00",
     "start_time": "2024-08-21T16:29:33.499Z"
    },
    "hidden": true
   },
   "outputs": [
    {
     "data": {
      "text/plain": [
       "3-element Vector{Float64}:\n",
       " 1.7837434750186432\n",
       " 2.1960022209883396\n",
       " 2.1118697478991595"
      ]
     },
     "execution_count": 122,
     "metadata": {},
     "output_type": "execute_result"
    }
   ],
   "source": [
    "XS_rr./YLEdsx_rr"
   ]
  },
  {
   "cell_type": "code",
   "execution_count": 123,
   "id": "887264c5",
   "metadata": {
    "ExecuteTime": {
     "end_time": "2024-08-21T17:47:11.809000+01:00",
     "start_time": "2024-08-21T16:29:33.868Z"
    },
    "hidden": true
   },
   "outputs": [],
   "source": [
    "#Experimental YLE+XS setup [With REC NHEJ]\n",
    "\n",
    "# Define parameters and save in dictionary (set values as you wish)\n",
    "pdict = Dict()\n",
    "pdict[sbf]=1.0\n",
    "pdict[hbf]=1.0\n",
    "pdict[sβf]=1.0\n",
    "pdict[hβf]=0.0 #recessive NHEJ mutations\n",
    "pdict[sbβf]=1.0\n",
    "\n",
    "pdict[c]=c_[1] #Experimental value\n",
    "pdict[j]=j_[1] #Experimental value\n",
    "\n",
    "pdict[sy]=0.22 #From cage data inference\n",
    "\n",
    "pdict[p]=0.0\n",
    "pdict[u]=1.0\n",
    "pdict[q]=0.0\n",
    "pdict[m] = 0.9 #Experimental value\n",
    "pdict[sXam]=0.2 #Experimental value\n",
    "\n",
    "Rm = 6\n",
    "Nf_eq = 1000.0\n",
    "params=Dict()\n",
    "params[\"OJ\"] = 1/10\n",
    "params[\"f\"] = (2*Rm)/params[\"OJ\"]\n",
    "params[\"α\"] = params[\"f\"]*Nf_eq/(Rm-1)\n",
    "params[\"fm\"]=pdict[sXam] #Experimental value\n",
    "\n",
    "# Substitute symbols for numerical values: outputs are sex_ratio, fitness and inheritance\n",
    "subs_list = [(p,pdict[p]) for p in keys(pdict)];\n",
    "\n",
    "#Fitness\n",
    "fitness_f_vals = Array{Float64}(fitness_f.subs(subs_list))\n",
    "fitness_m_vals = Array{Float64}(fitness_m.subs(subs_list))\n",
    "\n",
    "#inheritance\n",
    "Nf = length(ic_f[1,1,:])\n",
    "Nm = length(ic_m[1,1,:])\n",
    "ic_vals = Array{Any,3}(nothing,Nf,Nm,Nf)\n",
    "for i in 1:Nf\n",
    "    ic_vals[i,:,:] = ic_f[i,:,:].subs(subs_list)\n",
    "end\n",
    "ic_f_vals = Array{Float64}(ic_vals);\n",
    "\n",
    "ic_vals = Array{Any,3}(nothing,Nf,Nm,Nm)\n",
    "for i in 1:Nf\n",
    "    ic_vals[i,:,:] = ic_m[i,:,:].subs(subs_list)\n",
    "end\n",
    "ic_m_vals = Array{Float64}(ic_vals);"
   ]
  },
  {
   "cell_type": "code",
   "execution_count": 124,
   "id": "812290fa",
   "metadata": {
    "ExecuteTime": {
     "end_time": "2024-08-21T17:47:21.179000+01:00",
     "start_time": "2024-08-21T16:29:34.227Z"
    },
    "hidden": true
   },
   "outputs": [
    {
     "data": {
      "text/plain": [
       "3-element Vector{Any}:\n",
       " 0.03430000000000001\n",
       " 0.11380000000000003\n",
       " 0.12200000000000004"
      ]
     },
     "execution_count": 124,
     "metadata": {},
     "output_type": "execute_result"
    }
   ],
   "source": [
    "release_genotype=[\"Ab\" \"aB\" \"y\"]\n",
    "hetYLEXS_rr = []\n",
    "for threshold in thresholds\n",
    "    rr = find_release_rate_required_2locus(release_genotype,\n",
    "                                    threshold,\n",
    "                                    ic_f_vals,\n",
    "                                    ic_m_vals,\n",
    "                                    fitness_f_vals,\n",
    "                                    fitness_m_vals,\n",
    "                                    params,\n",
    "                                    fitness_effect=\"s\")\n",
    "    push!(hetYLEXS_rr,rr)\n",
    "end\n",
    "hetYLEXS_rr"
   ]
  },
  {
   "cell_type": "code",
   "execution_count": 125,
   "id": "e61986ec",
   "metadata": {
    "ExecuteTime": {
     "end_time": "2024-08-21T17:47:21.181000+01:00",
     "start_time": "2024-08-21T16:29:34.507Z"
    },
    "hidden": true
   },
   "outputs": [
    {
     "data": {
      "text/plain": [
       "3-element Vector{Float64}:\n",
       " 0.2557792692020881\n",
       " 0.6318711826762909\n",
       " 0.6407563025210086"
      ]
     },
     "execution_count": 125,
     "metadata": {},
     "output_type": "execute_result"
    }
   ],
   "source": [
    "hetYLEXS_rr./YLEdsx_rr"
   ]
  },
  {
   "cell_type": "code",
   "execution_count": 126,
   "id": "2751f824",
   "metadata": {
    "ExecuteTime": {
     "end_time": "2024-08-21T17:47:32.103000+01:00",
     "start_time": "2024-08-21T16:29:34.779Z"
    },
    "hidden": true
   },
   "outputs": [
    {
     "data": {
      "text/plain": [
       "3-element Vector{Any}:\n",
       " 0.0263\n",
       " 0.08830000000000002\n",
       " 0.09450000000000001"
      ]
     },
     "execution_count": 126,
     "metadata": {},
     "output_type": "execute_result"
    }
   ],
   "source": [
    "release_genotype=[\"aB\" \"ab\" \"y\"]\n",
    "homYLEXS_rr = []\n",
    "for threshold in thresholds\n",
    "    rr = find_release_rate_required_2locus(release_genotype,\n",
    "                                    threshold,\n",
    "                                    ic_f_vals,\n",
    "                                    ic_m_vals,\n",
    "                                    fitness_f_vals,\n",
    "                                    fitness_m_vals,\n",
    "                                    params,\n",
    "                                    fitness_effect=\"s\")\n",
    "    push!(homYLEXS_rr,rr)\n",
    "end\n",
    "homYLEXS_rr"
   ]
  },
  {
   "cell_type": "code",
   "execution_count": 127,
   "id": "d3120e05",
   "metadata": {
    "ExecuteTime": {
     "end_time": "2024-08-21T17:47:32.104000+01:00",
     "start_time": "2024-08-21T16:29:35.052Z"
    },
    "hidden": true
   },
   "outputs": [
    {
     "data": {
      "text/plain": [
       "3-element Vector{Float64}:\n",
       " 0.19612229679343773\n",
       " 0.49028317601332594\n",
       " 0.4963235294117647"
      ]
     },
     "execution_count": 127,
     "metadata": {},
     "output_type": "execute_result"
    }
   ],
   "source": [
    "homYLEXS_rr./YLEdsx_rr"
   ]
  },
  {
   "cell_type": "code",
   "execution_count": 128,
   "id": "14d8a15c",
   "metadata": {
    "ExecuteTime": {
     "end_time": "2024-08-21T17:48:19.553000+01:00",
     "start_time": "2024-08-21T16:29:35.316Z"
    },
    "hidden": true
   },
   "outputs": [],
   "source": [
    "#Experimental YLE+XS setup [With Dom NHEJ]\n",
    "\n",
    "# Define parameters and save in dictionary (set values as you wish)\n",
    "pdict = Dict()\n",
    "pdict[sbf]=1.0\n",
    "pdict[hbf]=1.0\n",
    "pdict[sβf]=1.0\n",
    "pdict[hβf]=1.0 #recessive NHEJ mutations\n",
    "pdict[sbβf]=1.0\n",
    "\n",
    "pdict[c]=c_[1] #Experimental value\n",
    "pdict[j]=j_[1] #Experimental value\n",
    "pdict[sy]=0.22\n",
    "\n",
    "pdict[p]=0.0\n",
    "pdict[u]=1.0\n",
    "pdict[q]=0.0\n",
    "pdict[m] = 0.9 #Experimental value\n",
    "pdict[sXam]=0.2 #Experimental value\n",
    "\n",
    "Rm = 6\n",
    "Nf_eq = 1000.0\n",
    "#params = Initiate_baseline_parameters()\n",
    "params=Dict()\n",
    "params[\"OJ\"] = 1/10\n",
    "params[\"f\"] = (2*Rm)/params[\"OJ\"]\n",
    "params[\"α\"] = params[\"f\"]*Nf_eq/(Rm-1)\n",
    "params[\"fm\"]=pdict[sXam] #Experimental value\n",
    "\n",
    "# Substitute symbols for numerical values: outputs are sex_ratio, fitness and inheritance\n",
    "subs_list = [(p,pdict[p]) for p in keys(pdict)];\n",
    "\n",
    "#Fitness\n",
    "fitness_f_vals = Array{Float64}(fitness_f.subs(subs_list))\n",
    "fitness_m_vals = Array{Float64}(fitness_m.subs(subs_list))\n",
    "\n",
    "#inheritance\n",
    "Nf = length(ic_f[1,1,:])\n",
    "Nm = length(ic_m[1,1,:])\n",
    "ic_vals = Array{Any,3}(nothing,Nf,Nm,Nf)\n",
    "for i in 1:Nf\n",
    "    ic_vals[i,:,:] = ic_f[i,:,:].subs(subs_list)\n",
    "end\n",
    "ic_f_vals = Array{Float64}(ic_vals);\n",
    "\n",
    "ic_vals = Array{Any,3}(nothing,Nf,Nm,Nm)\n",
    "for i in 1:Nf\n",
    "    ic_vals[i,:,:] = ic_m[i,:,:].subs(subs_list)\n",
    "end\n",
    "ic_m_vals = Array{Float64}(ic_vals);"
   ]
  },
  {
   "cell_type": "code",
   "execution_count": 129,
   "id": "44b15e02",
   "metadata": {
    "ExecuteTime": {
     "end_time": "2024-08-21T17:48:30.806000+01:00",
     "start_time": "2024-08-21T16:29:35.587Z"
    },
    "hidden": true,
    "scrolled": true
   },
   "outputs": [
    {
     "data": {
      "text/plain": [
       "3-element Vector{Any}:\n",
       " 0.009899999999999996\n",
       " 0.0189\n",
       " 0.021999999999999992"
      ]
     },
     "execution_count": 129,
     "metadata": {},
     "output_type": "execute_result"
    }
   ],
   "source": [
    "release_genotype=[\"Ab\" \"aB\" \"y\"]\n",
    "hetYLEXS_rr = []\n",
    "for threshold in thresholds\n",
    "    rr = find_release_rate_required_2locus(release_genotype,\n",
    "                                    threshold,\n",
    "                                    ic_f_vals,\n",
    "                                    ic_m_vals,\n",
    "                                    fitness_f_vals,\n",
    "                                    fitness_m_vals,\n",
    "                                    params,\n",
    "                                    fitness_effect=\"s\")\n",
    "    push!(hetYLEXS_rr,rr)\n",
    "end\n",
    "hetYLEXS_rr"
   ]
  },
  {
   "cell_type": "code",
   "execution_count": 130,
   "id": "7c2519f0",
   "metadata": {
    "ExecuteTime": {
     "end_time": "2024-08-21T17:48:38.941000+01:00",
     "start_time": "2024-08-21T16:29:35.876Z"
    },
    "hidden": true
   },
   "outputs": [
    {
     "data": {
      "text/plain": [
       "3-element Vector{Any}:\n",
       " 0.007200000000000001\n",
       " 0.014100000000000001\n",
       " 0.0166"
      ]
     },
     "execution_count": 130,
     "metadata": {},
     "output_type": "execute_result"
    }
   ],
   "source": [
    "release_genotype=[\"aB\" \"ab\" \"y\"]\n",
    "homYLEXS_rr = []\n",
    "for threshold in thresholds\n",
    "    rr = find_release_rate_required_2locus(release_genotype,\n",
    "                                    threshold,\n",
    "                                    ic_f_vals,\n",
    "                                    ic_m_vals,\n",
    "                                    fitness_f_vals,\n",
    "                                    fitness_m_vals,\n",
    "                                    params,\n",
    "                                    fitness_effect=\"s\")\n",
    "    push!(homYLEXS_rr,rr)\n",
    "end\n",
    "homYLEXS_rr"
   ]
  },
  {
   "cell_type": "code",
   "execution_count": null,
   "id": "cb53871d",
   "metadata": {
    "hidden": true
   },
   "outputs": [],
   "source": []
  },
  {
   "cell_type": "code",
   "execution_count": null,
   "id": "af36b61e",
   "metadata": {
    "hidden": true
   },
   "outputs": [],
   "source": []
  }
 ],
 "metadata": {
  "@webio": {
   "lastCommId": null,
   "lastKernelId": null
  },
  "kernelspec": {
   "display_name": "Julia 1.9.3",
   "language": "julia",
   "name": "julia-1.9"
  },
  "language_info": {
   "file_extension": ".jl",
   "mimetype": "application/julia",
   "name": "julia",
   "version": "1.9.3"
  },
  "toc": {
   "base_numbering": 1,
   "nav_menu": {},
   "number_sections": true,
   "sideBar": true,
   "skip_h1_title": false,
   "title_cell": "Table of Contents",
   "title_sidebar": "Contents",
   "toc_cell": false,
   "toc_position": {},
   "toc_section_display": true,
   "toc_window_display": false
  }
 },
 "nbformat": 4,
 "nbformat_minor": 5
}
